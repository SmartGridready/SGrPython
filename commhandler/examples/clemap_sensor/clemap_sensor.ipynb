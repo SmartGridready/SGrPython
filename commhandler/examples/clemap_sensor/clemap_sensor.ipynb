{
 "cells": [
  {
   "cell_type": "code",
   "execution_count": 1,
   "id": "6b8baa4d5ef597fd",
   "metadata": {
    "ExecuteTime": {
     "end_time": "2024-09-20T16:14:46.855887Z",
     "start_time": "2024-09-20T16:14:44.607098Z"
    },
    "collapsed": false
   },
   "outputs": [
    {
     "ename": "RuntimeError",
     "evalue": "asyncio.run() cannot be called from a running event loop",
     "output_type": "error",
     "traceback": [
      "\u001b[0;31m---------------------------------------------------------------------------\u001b[0m",
      "\u001b[0;31mRuntimeError\u001b[0m                              Traceback (most recent call last)",
      "Cell \u001b[0;32mIn[1], line 19\u001b[0m\n\u001b[1;32m     16\u001b[0m \u001b[38;5;28;01mawait\u001b[39;00m device\u001b[38;5;241m.\u001b[39mconnect_async()\n\u001b[1;32m     17\u001b[0m \u001b[38;5;66;03m#\u001b[39;00m\n\u001b[1;32m     18\u001b[0m \u001b[38;5;66;03m# vals = await device.get_value_async()\u001b[39;00m\n\u001b[0;32m---> 19\u001b[0m vals \u001b[38;5;241m=\u001b[39m \u001b[43mdevice\u001b[49m\u001b[38;5;241;43m.\u001b[39;49m\u001b[43mget_value\u001b[49m\u001b[43m(\u001b[49m\u001b[43m)\u001b[49m\n\u001b[1;32m     20\u001b[0m vals\n\u001b[1;32m     22\u001b[0m \u001b[38;5;66;03m# device = SGrDevice()\u001b[39;00m\n\u001b[1;32m     23\u001b[0m \u001b[38;5;66;03m# device \\\u001b[39;00m\n\u001b[1;32m     24\u001b[0m \u001b[38;5;66;03m#     .update_xml_spec('./lehman.xml') \\\u001b[39;00m\n\u001b[0;32m   (...)\u001b[0m\n\u001b[1;32m     34\u001b[0m \n\u001b[1;32m     35\u001b[0m \u001b[38;5;66;03m#find me here /dev/tty.usbmodem56D11292701 E 19200\u001b[39;00m\n",
      "File \u001b[0;32m~/GitRepos/GitHub/SGrPython/sgr_library/api/device_api.py:71\u001b[0m, in \u001b[0;36mBaseSGrInterface.get_value\u001b[0;34m(self)\u001b[0m\n\u001b[1;32m     70\u001b[0m \u001b[38;5;28;01mdef\u001b[39;00m \u001b[38;5;21mget_value\u001b[39m(\u001b[38;5;28mself\u001b[39m) \u001b[38;5;241m-\u001b[39m\u001b[38;5;241m>\u001b[39m \u001b[38;5;28mdict\u001b[39m[\u001b[38;5;28mtuple\u001b[39m[\u001b[38;5;28mstr\u001b[39m, \u001b[38;5;28mstr\u001b[39m], Any]:\n\u001b[0;32m---> 71\u001b[0m     \u001b[38;5;28;01mreturn\u001b[39;00m \u001b[43mrun\u001b[49m\u001b[43m(\u001b[49m\u001b[38;5;28;43mself\u001b[39;49m\u001b[38;5;241;43m.\u001b[39;49m\u001b[43mget_value_async\u001b[49m\u001b[43m(\u001b[49m\u001b[43m)\u001b[49m\u001b[43m)\u001b[49m\n",
      "File \u001b[0;32m/opt/homebrew/Cellar/python@3.12/3.12.4/Frameworks/Python.framework/Versions/3.12/lib/python3.12/asyncio/runners.py:190\u001b[0m, in \u001b[0;36mrun\u001b[0;34m(main, debug, loop_factory)\u001b[0m\n\u001b[1;32m    161\u001b[0m \u001b[38;5;250m\u001b[39m\u001b[38;5;124;03m\"\"\"Execute the coroutine and return the result.\u001b[39;00m\n\u001b[1;32m    162\u001b[0m \n\u001b[1;32m    163\u001b[0m \u001b[38;5;124;03mThis function runs the passed coroutine, taking care of\u001b[39;00m\n\u001b[0;32m   (...)\u001b[0m\n\u001b[1;32m    186\u001b[0m \u001b[38;5;124;03m    asyncio.run(main())\u001b[39;00m\n\u001b[1;32m    187\u001b[0m \u001b[38;5;124;03m\"\"\"\u001b[39;00m\n\u001b[1;32m    188\u001b[0m \u001b[38;5;28;01mif\u001b[39;00m events\u001b[38;5;241m.\u001b[39m_get_running_loop() \u001b[38;5;129;01mis\u001b[39;00m \u001b[38;5;129;01mnot\u001b[39;00m \u001b[38;5;28;01mNone\u001b[39;00m:\n\u001b[1;32m    189\u001b[0m     \u001b[38;5;66;03m# fail fast with short traceback\u001b[39;00m\n\u001b[0;32m--> 190\u001b[0m     \u001b[38;5;28;01mraise\u001b[39;00m \u001b[38;5;167;01mRuntimeError\u001b[39;00m(\n\u001b[1;32m    191\u001b[0m         \u001b[38;5;124m\"\u001b[39m\u001b[38;5;124masyncio.run() cannot be called from a running event loop\u001b[39m\u001b[38;5;124m\"\u001b[39m)\n\u001b[1;32m    193\u001b[0m \u001b[38;5;28;01mwith\u001b[39;00m Runner(debug\u001b[38;5;241m=\u001b[39mdebug, loop_factory\u001b[38;5;241m=\u001b[39mloop_factory) \u001b[38;5;28;01mas\u001b[39;00m runner:\n\u001b[1;32m    194\u001b[0m     \u001b[38;5;28;01mreturn\u001b[39;00m runner\u001b[38;5;241m.\u001b[39mrun(main)\n",
      "\u001b[0;31mRuntimeError\u001b[0m: asyncio.run() cannot be called from a running event loop"
     ]
    }
   ],
   "source": [
    "import os\n",
    "import logging\n",
    "from sgr_commhandler.device_builder import DeviceBuilder\n",
    "\n",
    "logger = logging.getLogger()\n",
    "logger.setLevel(logging.DEBUG)\n",
    "\n",
    "eid_file = './SGr_04_mmmm_dddd_CLEMAPEnergyMonitorEIV0.2.1.xml'\n",
    "config_props = dict(\n",
    "    username='email@example.com',\n",
    "    password='***password***',\n",
    "    sensor_id='***very-long-id***'\n",
    ")\n",
    "device = DeviceBuilder().eid_path(eid_file).properties(config_props).build()\n",
    "\n",
    "await device.connect_async()\n",
    "# get all data point values\n",
    "vals = await device.get_values_async()\n",
    "vals\n",
    "\n",
    "#find me here /dev/tty.usbmodem56D11292701 E 19200\n"
   ]
  },
  {
   "cell_type": "code",
   "execution_count": null,
   "id": "b8ba0b7a98f60e9e",
   "metadata": {
    "collapsed": false
   },
   "outputs": [],
   "source": [
    "# await device.get_function_profile(\"ActivePowerAC\").get_data_point(\"ActivePowerACtot\").read()"
   ]
  },
  {
   "cell_type": "code",
   "execution_count": 3,
   "id": "5bfc20380900c16c",
   "metadata": {
    "ExecuteTime": {
     "end_time": "2024-09-05T20:07:11.593611Z",
     "start_time": "2024-09-05T20:07:11.501433Z"
    },
    "collapsed": false
   },
   "outputs": [
    {
     "data": {
      "text/plain": [
       "{'ActivePowerACtot': -92.071,\n",
       " 'ActivePowerACL1': -92.071,\n",
       " 'ActivePowerACL2': -92.071,\n",
       " 'ActivePowerACL3': -92.071}"
      ]
     },
     "execution_count": 3,
     "metadata": {},
     "output_type": "execute_result"
    }
   ],
   "source": [
    "await device.get_function_profile(\"ActivePowerAC\").get_value_async()  #.get_data_point(\"ActivePowerACtot\").read()"
   ]
  },
  {
   "cell_type": "code",
   "execution_count": 4,
   "id": "4dc6314dfe7d19ee",
   "metadata": {
    "ExecuteTime": {
     "end_time": "2024-09-05T20:07:46.023458Z",
     "start_time": "2024-09-05T20:07:45.929623Z"
    },
    "collapsed": false
   },
   "outputs": [
    {
     "data": {
      "text/plain": [
       "-92.194"
      ]
     },
     "execution_count": 4,
     "metadata": {},
     "output_type": "execute_result"
    }
   ],
   "source": [
    "await device.get_function_profile(\"ActivePowerAC\").get_data_point(\"ActivePowerACtot\").get_value_async()\n"
   ]
  },
  {
   "cell_type": "code",
   "execution_count": null,
   "id": "18115e9466dd82a5",
   "metadata": {
    "collapsed": false
   },
   "outputs": [],
   "source": [
    "await device.disconnect_async()"
   ]
  }
 ],
 "metadata": {
  "kernelspec": {
   "display_name": "Python 3",
   "language": "python",
   "name": "python3"
  },
  "language_info": {
   "codemirror_mode": {
    "name": "ipython",
    "version": 2
   },
   "file_extension": ".py",
   "mimetype": "text/x-python",
   "name": "python",
   "nbconvert_exporter": "python",
   "pygments_lexer": "ipython2",
   "version": "2.7.6"
  }
 },
 "nbformat": 4,
 "nbformat_minor": 5
}
