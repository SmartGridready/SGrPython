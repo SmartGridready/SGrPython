{
 "cells": [
  {
   "cell_type": "markdown",
   "source": [],
   "metadata": {
    "collapsed": false
   },
   "id": "2b2d7f6e9616bb8a"
  },
  {
   "cell_type": "code",
   "execution_count": 2,
   "outputs": [
    {
     "name": "stdout",
     "output_type": "stream",
     "text": [
      "{'bearerToken', 'password', 'sensor_id', 'username'}\n",
      "DeviceInformation(name='CLEMAP Energy Monitor', manufacture='CLEMAP', software_revision='1.0.0', hardware_revision=None, device_category=<DeviceCategory.SUB_METER_ELECTRICITY: 'SubMeterElectricity'>, is_local=False)\n"
     ]
    },
    {
     "data": {
      "text/plain": "{('ActivePowerAC', 'ActivePowerACtot'): 100.0,\n ('ActivePowerAC', 'ActivePowerACL1'): 100.0,\n ('ActivePowerAC', 'ActivePowerACL2'): 100.0,\n ('ActivePowerAC', 'ActivePowerACL3'): 100.0,\n ('ReactivePowerAC', 'ReactivePowerACtot'): 100.0,\n ('ReactivePowerAC', 'ReactivePowerACL1'): 100.0,\n ('ReactivePowerAC', 'ReactivePowerACL2'): 100.0,\n ('ReactivePowerAC', 'ReactivePowerACL3'): 100.0,\n ('ActiveEnergyAC', 'ActiveEnergyACTOT'): 100.0,\n ('ActiveEnergyAC', 'ActiveEnergyACL1'): 100.0,\n ('ActiveEnergyAC', 'ActiveEnergyACL2'): 100.0,\n ('ActiveEnergyAC', 'ActiveEnergyACL3'): 100.0,\n ('VoltageAC', 'VoltageTOT'): 100.0,\n ('VoltageAC', 'VoltageL1'): 100.0,\n ('VoltageAC', 'VoltageL2'): 100.0,\n ('VoltageAC', 'VoltageL3'): 100.0,\n ('CurrentAC', 'CurrentTOT'): 100.0,\n ('CurrentAC', 'CurrentL1'): 100.0,\n ('CurrentAC', 'CurrentL2'): 100.0,\n ('CurrentAC', 'CurrentL3'): 100.0,\n ('ApparentPowerAC', 'ApparentPowerTOT'): 100.0,\n ('ApparentPowerAC', 'ApparentPowerL1'): 100.0,\n ('ApparentPowerAC', 'ApparentPowerL2'): 100.0,\n ('ApparentPowerAC', 'ApparentPowerL3'): 100.0,\n ('PowerFactor', 'PowerFactorTOT'): 100.0,\n ('PowerFactor', 'PowerFactorL1'): 100.0,\n ('PowerFactor', 'PowerFactorL2'): 100.0,\n ('PowerFactor', 'PowerFactorL3'): 100.0}"
     },
     "execution_count": 2,
     "metadata": {},
     "output_type": "execute_result"
    }
   ],
   "source": [
    "from sgr_library.api import DataPoint, FunctionProfile\n",
    "from sgr_library.sgr_device import SGrDevice\n",
    "import asyncio\n",
    "# %%\n",
    "import logging\n",
    "\n",
    "# Configure logging to display in the notebook\n",
    "logging.basicConfig(level=logging.INFO, format='%(asctime)s - %(name)s - %(levelname)s - %(message)s')\n",
    "\n",
    "\n",
    "device = SGrDevice()\n",
    "device.update_xml_spec('/Users/robin/Documents/GitHub/SGrPython/examples/xml/SGr_04_mmmm_dddd_CLEMAPEnergyMonitorEIV0.2.1.xml')\n",
    "print(device.get_configuration_params())\n",
    "device.update_config('/Users/robin/Documents/GitHub/SGrPython/examples/config_CLEMAPEnMon_ressource_template.ini')\\\n",
    "    .build()\n",
    "device.get_function_profile()\n",
    "dp: DataPoint[int] = device.get_function_profile('ActivePowerAC').get_data_point('ActivePowerACtot')\n",
    "fp: FunctionProfile = device.get_function_profiles('')\n",
    "dp.direction().\n",
    "dp.read()\n",
    "print(device.device_information())\n",
    "device.read_data()"
   ],
   "metadata": {
    "collapsed": false,
    "ExecuteTime": {
     "end_time": "2024-01-10T08:02:46.432097Z",
     "start_time": "2024-01-10T08:02:46.411294Z"
    }
   },
   "id": "db9113b82216307e"
  },
  {
   "cell_type": "code",
   "execution_count": 2,
   "id": "initial_id",
   "metadata": {
    "collapsed": true,
    "ExecuteTime": {
     "end_time": "2024-01-01T16:31:24.476921Z",
     "start_time": "2024-01-01T16:31:24.327489Z"
    }
   },
   "outputs": [
    {
     "name": "stdout",
     "output_type": "stream",
     "text": [
      "Connected to ModbusRTU ond Port: \n"
     ]
    },
    {
     "name": "stderr",
     "output_type": "stream",
     "text": [
      "/Users/robin/Documents/GitHub/SGrPython/sgr_library/modbusRTU_interface_async.py:282: RuntimeWarning: coroutine 'AsyncModbusSerialClient.connect' was never awaited\n",
      "  self.client = SGrModbusRTUClient(str(self.port), str(self.parity), int(self.baudrate))\n",
      "RuntimeWarning: Enable tracemalloc to get the object allocation traceback\n"
     ]
    },
    {
     "ename": "Exception",
     "evalue": "invalid value read from device, 200, validator: DataTypes.FLOAT",
     "output_type": "error",
     "traceback": [
      "\u001B[0;31m---------------------------------------------------------------------------\u001B[0m",
      "\u001B[0;31mException\u001B[0m                                 Traceback (most recent call last)",
      "Cell \u001B[0;32mIn[2], line 6\u001B[0m\n\u001B[1;32m      4\u001B[0m modbus_rtu_device\u001B[38;5;241m.\u001B[39mbuild()\n\u001B[1;32m      5\u001B[0m modbus_rtu_device\u001B[38;5;241m.\u001B[39mget_function_profiles()\n\u001B[0;32m----> 6\u001B[0m \u001B[43mmodbus_rtu_device\u001B[49m\u001B[38;5;241;43m.\u001B[39;49m\u001B[43mget_function_profile\u001B[49m\u001B[43m(\u001B[49m\u001B[38;5;124;43m'\u001B[39;49m\u001B[38;5;124;43mVoltageAC\u001B[39;49m\u001B[38;5;124;43m'\u001B[39;49m\u001B[43m)\u001B[49m\u001B[38;5;241;43m.\u001B[39;49m\u001B[43mget_data_point\u001B[49m\u001B[43m(\u001B[49m\u001B[38;5;124;43m'\u001B[39;49m\u001B[38;5;124;43mVoltageL1\u001B[39;49m\u001B[38;5;124;43m'\u001B[39;49m\u001B[43m)\u001B[49m\u001B[38;5;241;43m.\u001B[39;49m\u001B[43mread\u001B[49m\u001B[43m(\u001B[49m\u001B[43m)\u001B[49m\n",
      "File \u001B[0;32m~/Documents/GitHub/SGrPython/sgr_library/api/data_point_api.py:70\u001B[0m, in \u001B[0;36mDataPoint.read\u001B[0;34m(self)\u001B[0m\n\u001B[1;32m     68\u001B[0m \u001B[38;5;28;01mif\u001B[39;00m \u001B[38;5;28mself\u001B[39m\u001B[38;5;241m.\u001B[39m_validator\u001B[38;5;241m.\u001B[39mvalidate(value):\n\u001B[1;32m     69\u001B[0m     \u001B[38;5;28;01mreturn\u001B[39;00m \u001B[38;5;28mself\u001B[39m\u001B[38;5;241m.\u001B[39m_converter\u001B[38;5;241m.\u001B[39mfrom_device(value)\n\u001B[0;32m---> 70\u001B[0m \u001B[38;5;28;01mraise\u001B[39;00m \u001B[38;5;167;01mException\u001B[39;00m(\u001B[38;5;124mf\u001B[39m\u001B[38;5;124m\"\u001B[39m\u001B[38;5;124minvalid value read from device, \u001B[39m\u001B[38;5;132;01m{\u001B[39;00mvalue\u001B[38;5;132;01m}\u001B[39;00m\u001B[38;5;124m, validator: \u001B[39m\u001B[38;5;132;01m{\u001B[39;00m\u001B[38;5;28mself\u001B[39m\u001B[38;5;241m.\u001B[39m_validator\u001B[38;5;241m.\u001B[39mdata_type()\u001B[38;5;132;01m}\u001B[39;00m\u001B[38;5;124m\"\u001B[39m)\n",
      "\u001B[0;31mException\u001B[0m: invalid value read from device, 200, validator: DataTypes.FLOAT"
     ]
    }
   ],
   "source": [
    "modbus_rtu_device = SGrDevice()\n",
    "modbus_rtu_device.update_xml_spec('/Users/robin/Documents/GitHub/SGrPython/examples/xml/SGr_04_0014_0000_WAGO_SmartMeterV0.2.1 (1).xml')\n",
    "modbus_rtu_device.get_configuration_params()\n",
    "modbus_rtu_device.build()\n",
    "modbus_rtu_device.get_function_profiles()\n",
    "modbus_rtu_device.get_function_profile('VoltageAC').get_data_point('VoltageL1').read()"
   ]
  },
  {
   "cell_type": "code",
   "execution_count": 4,
   "outputs": [
    {
     "data": {
      "text/plain": "{('VoltageAC',\n  'VoltageL1'): <sgr_library.api.data_point_api.DataPoint at 0x10a170dd0>,\n ('VoltageAC',\n  'VoltageL2'): <sgr_library.api.data_point_api.DataPoint at 0x10a136150>,\n ('VoltageAC',\n  'VoltageL3'): <sgr_library.api.data_point_api.DataPoint at 0x10a139690>,\n ('VoltageAC',\n  'VoltageACL1-L2'): <sgr_library.api.data_point_api.DataPoint at 0x10a15e390>,\n ('VoltageAC',\n  'VoltageACL1-L3'): <sgr_library.api.data_point_api.DataPoint at 0x10a15fd90>,\n ('VoltageAC',\n  'VoltageACL2-L3'): <sgr_library.api.data_point_api.DataPoint at 0x10a15f450>,\n ('Frequency',\n  'Frequency'): <sgr_library.api.data_point_api.DataPoint at 0x10a15ed90>,\n ('CurrentAC',\n  'CurrentACL1'): <sgr_library.api.data_point_api.DataPoint at 0x10a15e990>,\n ('CurrentAC',\n  'CurrentACL2'): <sgr_library.api.data_point_api.DataPoint at 0x10a15cf50>,\n ('CurrentAC',\n  'CurrentACL3'): <sgr_library.api.data_point_api.DataPoint at 0x10a1b36d0>,\n ('CurrentAC',\n  'CurrentACN'): <sgr_library.api.data_point_api.DataPoint at 0x10a1b3e90>,\n ('ActivePowerAC',\n  'ActivePowerACtot'): <sgr_library.api.data_point_api.DataPoint at 0x10a1b3d50>,\n ('ActivePowerAC',\n  'ActivePowerACL1'): <sgr_library.api.data_point_api.DataPoint at 0x10a1b3b90>,\n ('ActivePowerAC',\n  'ActivePowerACL2'): <sgr_library.api.data_point_api.DataPoint at 0x10a1b3990>,\n ('ActivePowerAC',\n  'ActivePowerACL3'): <sgr_library.api.data_point_api.DataPoint at 0x10a1b37d0>,\n ('ReactivePowerAC',\n  'ReactivePowerACtot'): <sgr_library.api.data_point_api.DataPoint at 0x10a1b3150>,\n ('ReactivePowerAC',\n  'ReactivePowerACL1'): <sgr_library.api.data_point_api.DataPoint at 0x10a1b5f50>,\n ('ReactivePowerAC',\n  'ReactivePowerACL2'): <sgr_library.api.data_point_api.DataPoint at 0x10a1b6850>,\n ('ReactivePowerAC',\n  'ReactivePowerACL3'): <sgr_library.api.data_point_api.DataPoint at 0x10a1b6990>,\n ('ApparentPowerAC',\n  'ApparentPowerACtot'): <sgr_library.api.data_point_api.DataPoint at 0x10a1b7f90>,\n ('ApparentPowerAC',\n  'ApparentPowerACL1'): <sgr_library.api.data_point_api.DataPoint at 0x10a1b7950>,\n ('ApparentPowerAC',\n  'ApparentPowerACL2'): <sgr_library.api.data_point_api.DataPoint at 0x10a1b7510>,\n ('ApparentPowerAC',\n  'ApparentPowerACL3'): <sgr_library.api.data_point_api.DataPoint at 0x10a1b6490>,\n ('ActiveEnergyAC',\n  'ActiveEnergyACtot'): <sgr_library.api.data_point_api.DataPoint at 0x10a1b70d0>,\n ('ActiveEnergyAC',\n  'ActiveEnergyACL1'): <sgr_library.api.data_point_api.DataPoint at 0x10a1b7150>,\n ('ActiveEnergyAC',\n  'ActiveEnergyACL2'): <sgr_library.api.data_point_api.DataPoint at 0x10a1b7350>,\n ('ActiveEnergyAC',\n  'ActiveEnergyACL3'): <sgr_library.api.data_point_api.DataPoint at 0x10a1b5e50>,\n ('ReactiveEnergyAC',\n  'ReactiveEnergyACtot'): <sgr_library.api.data_point_api.DataPoint at 0x10a1b6f10>,\n ('ReactiveEnergyAC',\n  'ReactiveEnergyACL1'): <sgr_library.api.data_point_api.DataPoint at 0x10a1b6f50>,\n ('ReactiveEnergyAC',\n  'ReactiveEnergyACL2'): <sgr_library.api.data_point_api.DataPoint at 0x10a1b5790>,\n ('ReactiveEnergyAC',\n  'ReactiveEnergyACL3'): <sgr_library.api.data_point_api.DataPoint at 0x10a1b6790>,\n ('ActiveEnerBalanceAC',\n  'ActiveImportAC'): <sgr_library.api.data_point_api.DataPoint at 0x10a1b6210>,\n ('ActiveEnerBalanceAC',\n  'ActiveExportAC'): <sgr_library.api.data_point_api.DataPoint at 0x10a1b79d0>,\n ('ActiveEnerBalanceAC',\n  'ActiveNetAC'): <sgr_library.api.data_point_api.DataPoint at 0x10a1b6f90>,\n ('ReactiveEnerBalanceAC',\n  'ReactiveImportAC'): <sgr_library.api.data_point_api.DataPoint at 0x10a1b5a10>,\n ('ReactiveEnerBalanceAC',\n  'ReactiveExportAC'): <sgr_library.api.data_point_api.DataPoint at 0x10a1b5990>,\n ('ReactiveEnerBalanceAC',\n  'ReactiveNetAC'): <sgr_library.api.data_point_api.DataPoint at 0x10a1b59d0>,\n ('PowerQuadrant',\n  'PwrQuadACtot'): <sgr_library.api.data_point_api.DataPoint at 0x10a1b56d0>,\n ('PowerQuadrant',\n  'PwrQuadACL1'): <sgr_library.api.data_point_api.DataPoint at 0x10a1b5810>,\n ('PowerQuadrant',\n  'PwrQuadACL2'): <sgr_library.api.data_point_api.DataPoint at 0x10a1b4bd0>,\n ('PowerQuadrant',\n  'PwrQuadACL3'): <sgr_library.api.data_point_api.DataPoint at 0x10a1b4f90>}"
     },
     "execution_count": 4,
     "metadata": {},
     "output_type": "execute_result"
    }
   ],
   "source": [
    "modbus_tcp_device = SGrDevice()\n",
    "modbus_tcp_device.update_xml_spec('/Users/robin/Documents/GitHub/SGrPython/examples/xml/SGr_04_0016_xxxx_ABBMeterV0.2.1.xml')\n",
    "modbus_tcp_device.get_configuration_params()\n",
    "modbus_tcp_device.build()\n",
    "modbus_tcp_device.get_function_profiles()\n",
    "modbus_tcp_device.get_data_points()\n"
   ],
   "metadata": {
    "collapsed": false,
    "ExecuteTime": {
     "end_time": "2024-01-01T16:31:37.996549Z",
     "start_time": "2024-01-01T16:31:37.949741Z"
    }
   },
   "id": "6190f9d93fbb892"
  },
  {
   "cell_type": "code",
   "execution_count": 16,
   "outputs": [
    {
     "data": {
      "text/plain": "<sgr_library.modbusRTU_interface_async.SgrModbusRtuInterface at 0x11232ef10>"
     },
     "execution_count": 16,
     "metadata": {},
     "output_type": "execute_result"
    }
   ],
   "source": [],
   "metadata": {
    "collapsed": false,
    "ExecuteTime": {
     "end_time": "2023-12-24T12:47:11.210853Z",
     "start_time": "2023-12-24T12:47:11.189614Z"
    }
   },
   "id": "34dc1ca7eb7f84a4"
  },
  {
   "cell_type": "code",
   "execution_count": null,
   "outputs": [],
   "source": [
    "for fp in modbus_component.root.interface_list.modbus_interface.functional_profile_list.functional_profile_list_element:\n",
    "    for dp in fp.data_point_list.data_point_list_element:\n",
    "        if dp.data_point.data_type.string:\n",
    "            print(dp.data_point)"
   ],
   "metadata": {
    "collapsed": false
   },
   "id": "7a3b3b3ce3a06be4"
  },
  {
   "cell_type": "code",
   "execution_count": 5,
   "outputs": [],
   "source": [
    "import configparser"
   ],
   "metadata": {
    "collapsed": false,
    "ExecuteTime": {
     "end_time": "2023-12-25T16:30:15.091843Z",
     "start_time": "2023-12-25T16:30:15.086689Z"
    }
   },
   "id": "672b828254465253"
  },
  {
   "cell_type": "code",
   "execution_count": 6,
   "outputs": [
    {
     "data": {
      "text/plain": "['config_CLEMAPEnMon_ressource_template.ini']"
     },
     "execution_count": 6,
     "metadata": {},
     "output_type": "execute_result"
    }
   ],
   "source": [
    "config = configparser.ConfigParser()\n",
    "config.read('config_CLEMAPEnMon_ressource_template.ini')\n"
   ],
   "metadata": {
    "collapsed": false,
    "ExecuteTime": {
     "end_time": "2023-12-25T16:31:27.398610Z",
     "start_time": "2023-12-25T16:31:27.387809Z"
    }
   },
   "id": "3410fc8774980ffe"
  },
  {
   "cell_type": "code",
   "execution_count": 8,
   "outputs": [],
   "source": [
    "x = config.items()"
   ],
   "metadata": {
    "collapsed": false,
    "ExecuteTime": {
     "end_time": "2023-12-25T16:32:19.620555Z",
     "start_time": "2023-12-25T16:32:19.612744Z"
    }
   },
   "id": "48ba33128c31ce6b"
  },
  {
   "cell_type": "code",
   "execution_count": 13,
   "outputs": [
    {
     "name": "stdout",
     "output_type": "stream",
     "text": [
      "DEFAULT\n",
      "AUTHENTICATION\n",
      "username email@example.com\n",
      "password ***password***\n",
      "RESSOURCE\n",
      "sensor_id ***very-long-id***\n"
     ]
    }
   ],
   "source": [
    "for section, items in config.items():\n",
    "    print(section)\n",
    "    for item in items:\n",
    "        print(item, config.get(section, item))\n"
   ],
   "metadata": {
    "collapsed": false,
    "ExecuteTime": {
     "end_time": "2023-12-25T16:40:15.629243Z",
     "start_time": "2023-12-25T16:40:15.620116Z"
    }
   },
   "id": "5a1246d0b5187d10"
  },
  {
   "cell_type": "code",
   "execution_count": null,
   "outputs": [],
   "source": [],
   "metadata": {
    "collapsed": false
   },
   "id": "2c8d0fec28b85b0f"
  }
 ],
 "metadata": {
  "kernelspec": {
   "display_name": "Python 3",
   "language": "python",
   "name": "python3"
  },
  "language_info": {
   "codemirror_mode": {
    "name": "ipython",
    "version": 2
   },
   "file_extension": ".py",
   "mimetype": "text/x-python",
   "name": "python",
   "nbconvert_exporter": "python",
   "pygments_lexer": "ipython2",
   "version": "2.7.6"
  }
 },
 "nbformat": 4,
 "nbformat_minor": 5
}
