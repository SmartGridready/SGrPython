{
 "cells": [
  {
   "cell_type": "markdown",
   "source": [],
   "metadata": {
    "collapsed": false
   },
   "id": "2b2d7f6e9616bb8a"
  },
  {
   "cell_type": "code",
   "execution_count": 6,
   "outputs": [
    {
     "name": "stdout",
     "output_type": "stream",
     "text": [
      "{'bearerToken', 'password', 'sensor_id', 'username'}\n"
     ]
    },
    {
     "ename": "TypeError",
     "evalue": "BaseSGrInterface.get_function_profile() missing 1 required positional argument: 'function_profile_name'",
     "output_type": "error",
     "traceback": [
      "\u001B[0;31m---------------------------------------------------------------------------\u001B[0m",
      "\u001B[0;31mTypeError\u001B[0m                                 Traceback (most recent call last)",
      "Cell \u001B[0;32mIn[6], line 16\u001B[0m\n\u001B[1;32m     13\u001B[0m \u001B[38;5;28mprint\u001B[39m(device\u001B[38;5;241m.\u001B[39mget_configuration_params())\n\u001B[1;32m     14\u001B[0m device\u001B[38;5;241m.\u001B[39mupdate_config(\u001B[38;5;124m'\u001B[39m\u001B[38;5;124m/Users/robin/Documents/GitHub/SGrPython/examples/config_CLEMAPEnMon_ressource_template.ini\u001B[39m\u001B[38;5;124m'\u001B[39m)\\\n\u001B[1;32m     15\u001B[0m     \u001B[38;5;241m.\u001B[39mbuild()\n\u001B[0;32m---> 16\u001B[0m \u001B[43mdevice\u001B[49m\u001B[38;5;241;43m.\u001B[39;49m\u001B[43mget_function_profile\u001B[49m\u001B[43m(\u001B[49m\u001B[43m)\u001B[49m\n\u001B[1;32m     17\u001B[0m dp: DataPoint[\u001B[38;5;28mint\u001B[39m] \u001B[38;5;241m=\u001B[39m device\u001B[38;5;241m.\u001B[39mget_function_profile(\u001B[38;5;124m'\u001B[39m\u001B[38;5;124mActivePowerAC\u001B[39m\u001B[38;5;124m'\u001B[39m)\u001B[38;5;241m.\u001B[39mget_data_point(\u001B[38;5;124m'\u001B[39m\u001B[38;5;124mActivePowerACtot\u001B[39m\u001B[38;5;124m'\u001B[39m)\n\u001B[1;32m     18\u001B[0m fp: FunctionProfile \u001B[38;5;241m=\u001B[39m device\u001B[38;5;241m.\u001B[39mget_function_profiles(\u001B[38;5;124m'\u001B[39m\u001B[38;5;124m'\u001B[39m)\n",
      "\u001B[0;31mTypeError\u001B[0m: BaseSGrInterface.get_function_profile() missing 1 required positional argument: 'function_profile_name'"
     ]
    }
   ],
   "source": [
    "from sgr_library.api import DataPoint, FunctionProfile\n",
    "from sgr_library.sgr_device import SGrDevice\n",
    "import asyncio\n",
    "# %%\n",
    "import logging\n",
    "\n",
    "# Configure logging to display in the notebook\n",
    "logging.basicConfig(level=logging.INFO, format='%(asctime)s - %(name)s - %(levelname)s - %(message)s')\n",
    "\n",
    "\n",
    "device = SGrDevice()\n",
    "device.update_xml_spec('/Users/robin/Documents/GitHub/SGrPython/examples/xml/SGr_04_mmmm_dddd_CLEMAPEnergyMonitorEIV0.2.1.xml')\n",
    "print(device.get_configuration_params())\n",
    "device.update_config('/Users/robin/Documents/GitHub/SGrPython/examples/config_CLEMAPEnMon_ressource_template.ini')\\\n",
    "    .build()\n",
    "device.get_function_profile()\n",
    "dp: DataPoint[int] = device.get_function_profile('ActivePowerAC').get_data_point('ActivePowerACtot')\n",
    "fp: FunctionProfile = device.get_function_profiles('')\n",
    "fp.read()\n",
    "dp.read()\n",
    "dp.write()\n",
    "print(device.device_information())\n",
    "device.read_data()"
   ],
   "metadata": {
    "collapsed": false,
    "ExecuteTime": {
     "end_time": "2024-01-24T13:13:25.380975Z",
     "start_time": "2024-01-24T13:13:25.305892Z"
    }
   },
   "id": "db9113b82216307e"
  },
  {
   "cell_type": "code",
   "execution_count": 4,
   "id": "initial_id",
   "metadata": {
    "collapsed": true,
    "ExecuteTime": {
     "end_time": "2024-01-20T09:19:49.893571Z",
     "start_time": "2024-01-20T09:19:49.613781Z"
    }
   },
   "outputs": [
    {
     "name": "stderr",
     "output_type": "stream",
     "text": [
      "ERROR:asyncio:Unclosed client session\n",
      "client_session: <aiohttp.client.ClientSession object at 0x106aa8790>\n"
     ]
    },
    {
     "ename": "ParserError",
     "evalue": "Unknown property {http://www.smartgridready.com/ns/V0/}DeviceFrame:{http://www.smartgridready.com/ns/V0/}genericAttributeList",
     "output_type": "error",
     "traceback": [
      "\u001B[0;31m---------------------------------------------------------------------------\u001B[0m",
      "\u001B[0;31mParserError\u001B[0m                               Traceback (most recent call last)",
      "Cell \u001B[0;32mIn[4], line 4\u001B[0m\n\u001B[1;32m      2\u001B[0m modbus_rtu_device\u001B[38;5;241m.\u001B[39mupdate_xml_spec(\u001B[38;5;124m'\u001B[39m\u001B[38;5;124m/Users/robin/Documents/GitHub/SGrPython/examples/xml/SGr_04_0014_0000_WAGO_SmartMeterV0.2.1 (1).xml\u001B[39m\u001B[38;5;124m'\u001B[39m)\n\u001B[1;32m      3\u001B[0m modbus_rtu_device\u001B[38;5;241m.\u001B[39mget_configuration_params()\n\u001B[0;32m----> 4\u001B[0m \u001B[43mmodbus_rtu_device\u001B[49m\u001B[38;5;241;43m.\u001B[39;49m\u001B[43mbuild\u001B[49m\u001B[43m(\u001B[49m\u001B[43m)\u001B[49m\n\u001B[1;32m      5\u001B[0m modbus_rtu_device\u001B[38;5;241m.\u001B[39mget_function_profiles()\n\u001B[1;32m      6\u001B[0m modbus_rtu_device\u001B[38;5;241m.\u001B[39mget_function_profile(\u001B[38;5;124m'\u001B[39m\u001B[38;5;124mVoltageAC\u001B[39m\u001B[38;5;124m'\u001B[39m)\u001B[38;5;241m.\u001B[39mget_data_point(\u001B[38;5;124m'\u001B[39m\u001B[38;5;124mVoltageL1\u001B[39m\u001B[38;5;124m'\u001B[39m)\u001B[38;5;241m.\u001B[39mread()\n",
      "File \u001B[0;32m~/Documents/GitHub/SGrPython/sgr_library/sgr_device.py:52\u001B[0m, in \u001B[0;36mSGrDevice.build\u001B[0;34m(self)\u001B[0m\n\u001B[1;32m     51\u001B[0m \u001B[38;5;28;01mdef\u001B[39;00m \u001B[38;5;21mbuild\u001B[39m(\u001B[38;5;28mself\u001B[39m):\n\u001B[0;32m---> 52\u001B[0m     \u001B[38;5;28mself\u001B[39m\u001B[38;5;241m.\u001B[39m_interface \u001B[38;5;241m=\u001B[39m \u001B[38;5;28;43mself\u001B[39;49m\u001B[38;5;241;43m.\u001B[39;49m\u001B[43m_builder\u001B[49m\u001B[38;5;241;43m.\u001B[39;49m\u001B[43mbuild\u001B[49m\u001B[43m(\u001B[49m\u001B[43m)\u001B[49m\n",
      "File \u001B[0;32m~/Documents/GitHub/SGrPython/sgr_library/generic_interface.py:123\u001B[0m, in \u001B[0;36mGenericSGrDeviceBuilder.build\u001B[0;34m(self)\u001B[0m\n\u001B[1;32m    120\u001B[0m     \u001B[38;5;28;01mraise\u001B[39;00m \u001B[38;5;167;01mException\u001B[39;00m(\u001B[38;5;124mf\u001B[39m\u001B[38;5;124m'\u001B[39m\u001B[38;5;124munsupported loader configuration, \u001B[39m\u001B[38;5;132;01m{\u001B[39;00m\u001B[38;5;28mself\u001B[39m\u001B[38;5;241m.\u001B[39m_type\u001B[38;5;132;01m}\u001B[39;00m\u001B[38;5;124m'\u001B[39m)\n\u001B[1;32m    122\u001B[0m spec, config \u001B[38;5;241m=\u001B[39m \u001B[38;5;28mself\u001B[39m\u001B[38;5;241m.\u001B[39mreplace_variables()\n\u001B[0;32m--> 123\u001B[0m xml \u001B[38;5;241m=\u001B[39m \u001B[43mloaders\u001B[49m\u001B[43m[\u001B[49m\u001B[43mSGrConfiguration\u001B[49m\u001B[38;5;241;43m.\u001B[39;49m\u001B[43mSTRING\u001B[49m\u001B[43m]\u001B[49m\u001B[43m(\u001B[49m\u001B[43mspec\u001B[49m\u001B[43m)\u001B[49m\n\u001B[1;32m    124\u001B[0m protocol \u001B[38;5;241m=\u001B[39m resolve_protocol(xml)\n\u001B[1;32m    126\u001B[0m \u001B[38;5;28;01mreturn\u001B[39;00m device_builders[protocol](xml, config)\n",
      "File \u001B[0;32m~/Documents/GitHub/SGrPython/sgr_library/generic_interface.py:32\u001B[0m, in \u001B[0;36mstring_loader\u001B[0;34m(xml_str)\u001B[0m\n\u001B[1;32m     30\u001B[0m \u001B[38;5;28;01mdef\u001B[39;00m \u001B[38;5;21mstring_loader\u001B[39m(xml_str: \u001B[38;5;28mstr\u001B[39m) \u001B[38;5;241m-\u001B[39m\u001B[38;5;241m>\u001B[39m DeviceFrame:\n\u001B[1;32m     31\u001B[0m     parser \u001B[38;5;241m=\u001B[39m XmlParser(context\u001B[38;5;241m=\u001B[39mXmlContext())\n\u001B[0;32m---> 32\u001B[0m     \u001B[38;5;28;01mreturn\u001B[39;00m \u001B[43mparser\u001B[49m\u001B[38;5;241;43m.\u001B[39;49m\u001B[43mfrom_string\u001B[49m\u001B[43m(\u001B[49m\u001B[43mxml_str\u001B[49m\u001B[43m,\u001B[49m\u001B[43m \u001B[49m\u001B[43mDeviceFrame\u001B[49m\u001B[43m)\u001B[49m\n",
      "File \u001B[0;32m~/Documents/GitHub/SGrPython/SGrPython/lib/python3.11/site-packages/xsdata/formats/bindings.py:25\u001B[0m, in \u001B[0;36mAbstractParser.from_string\u001B[0;34m(self, source, clazz)\u001B[0m\n\u001B[1;32m     23\u001B[0m \u001B[38;5;28;01mdef\u001B[39;00m \u001B[38;5;21mfrom_string\u001B[39m(\u001B[38;5;28mself\u001B[39m, source: \u001B[38;5;28mstr\u001B[39m, clazz: Optional[Type[T]] \u001B[38;5;241m=\u001B[39m \u001B[38;5;28;01mNone\u001B[39;00m) \u001B[38;5;241m-\u001B[39m\u001B[38;5;241m>\u001B[39m T:\n\u001B[1;32m     24\u001B[0m \u001B[38;5;250m    \u001B[39m\u001B[38;5;124;03m\"\"\"Parse the input string and return the resulting object tree.\"\"\"\u001B[39;00m\n\u001B[0;32m---> 25\u001B[0m     \u001B[38;5;28;01mreturn\u001B[39;00m \u001B[38;5;28;43mself\u001B[39;49m\u001B[38;5;241;43m.\u001B[39;49m\u001B[43mfrom_bytes\u001B[49m\u001B[43m(\u001B[49m\u001B[43msource\u001B[49m\u001B[38;5;241;43m.\u001B[39;49m\u001B[43mencode\u001B[49m\u001B[43m(\u001B[49m\u001B[43m)\u001B[49m\u001B[43m,\u001B[49m\u001B[43m \u001B[49m\u001B[43mclazz\u001B[49m\u001B[43m)\u001B[49m\n",
      "File \u001B[0;32m~/Documents/GitHub/SGrPython/SGrPython/lib/python3.11/site-packages/xsdata/formats/bindings.py:29\u001B[0m, in \u001B[0;36mAbstractParser.from_bytes\u001B[0;34m(self, source, clazz)\u001B[0m\n\u001B[1;32m     27\u001B[0m \u001B[38;5;28;01mdef\u001B[39;00m \u001B[38;5;21mfrom_bytes\u001B[39m(\u001B[38;5;28mself\u001B[39m, source: \u001B[38;5;28mbytes\u001B[39m, clazz: Optional[Type[T]] \u001B[38;5;241m=\u001B[39m \u001B[38;5;28;01mNone\u001B[39;00m) \u001B[38;5;241m-\u001B[39m\u001B[38;5;241m>\u001B[39m T:\n\u001B[1;32m     28\u001B[0m \u001B[38;5;250m    \u001B[39m\u001B[38;5;124;03m\"\"\"Parse the input bytes array return the resulting object tree.\"\"\"\u001B[39;00m\n\u001B[0;32m---> 29\u001B[0m     \u001B[38;5;28;01mreturn\u001B[39;00m \u001B[38;5;28;43mself\u001B[39;49m\u001B[38;5;241;43m.\u001B[39;49m\u001B[43mparse\u001B[49m\u001B[43m(\u001B[49m\u001B[43mio\u001B[49m\u001B[38;5;241;43m.\u001B[39;49m\u001B[43mBytesIO\u001B[49m\u001B[43m(\u001B[49m\u001B[43msource\u001B[49m\u001B[43m)\u001B[49m\u001B[43m,\u001B[49m\u001B[43m \u001B[49m\u001B[43mclazz\u001B[49m\u001B[43m)\u001B[49m\n",
      "File \u001B[0;32m~/Documents/GitHub/SGrPython/SGrPython/lib/python3.11/site-packages/xsdata/formats/dataclass/parsers/bases.py:54\u001B[0m, in \u001B[0;36mNodeParser.parse\u001B[0;34m(self, source, clazz)\u001B[0m\n\u001B[1;32m     51\u001B[0m     warnings\u001B[38;5;241m.\u001B[39mfilterwarnings(\u001B[38;5;124m\"\u001B[39m\u001B[38;5;124merror\u001B[39m\u001B[38;5;124m\"\u001B[39m, category\u001B[38;5;241m=\u001B[39mConverterWarning)\n\u001B[1;32m     53\u001B[0m \u001B[38;5;28;01mtry\u001B[39;00m:\n\u001B[0;32m---> 54\u001B[0m     result \u001B[38;5;241m=\u001B[39m \u001B[43mhandler\u001B[49m\u001B[38;5;241;43m.\u001B[39;49m\u001B[43mparse\u001B[49m\u001B[43m(\u001B[49m\u001B[43msource\u001B[49m\u001B[43m)\u001B[49m\n\u001B[1;32m     55\u001B[0m \u001B[38;5;28;01mexcept\u001B[39;00m (ConverterWarning, \u001B[38;5;167;01mSyntaxError\u001B[39;00m) \u001B[38;5;28;01mas\u001B[39;00m e:\n\u001B[1;32m     56\u001B[0m     \u001B[38;5;28;01mraise\u001B[39;00m ParserError(e)\n",
      "File \u001B[0;32m~/Documents/GitHub/SGrPython/SGrPython/lib/python3.11/site-packages/xsdata/formats/dataclass/parsers/handlers/native.py:60\u001B[0m, in \u001B[0;36mXmlEventHandler.parse\u001B[0;34m(self, source)\u001B[0m\n\u001B[1;32m     57\u001B[0m \u001B[38;5;28;01melse\u001B[39;00m:\n\u001B[1;32m     58\u001B[0m     ctx \u001B[38;5;241m=\u001B[39m etree\u001B[38;5;241m.\u001B[39miterparse(source, EVENTS)  \u001B[38;5;66;03m# nosec\u001B[39;00m\n\u001B[0;32m---> 60\u001B[0m \u001B[38;5;28;01mreturn\u001B[39;00m \u001B[38;5;28;43mself\u001B[39;49m\u001B[38;5;241;43m.\u001B[39;49m\u001B[43mprocess_context\u001B[49m\u001B[43m(\u001B[49m\u001B[43mctx\u001B[49m\u001B[43m)\u001B[49m\n",
      "File \u001B[0;32m~/Documents/GitHub/SGrPython/SGrPython/lib/python3.11/site-packages/xsdata/formats/dataclass/parsers/handlers/native.py:67\u001B[0m, in \u001B[0;36mXmlEventHandler.process_context\u001B[0;34m(self, context)\u001B[0m\n\u001B[1;32m     65\u001B[0m \u001B[38;5;28;01mfor\u001B[39;00m event, element \u001B[38;5;129;01min\u001B[39;00m context:\n\u001B[1;32m     66\u001B[0m     \u001B[38;5;28;01mif\u001B[39;00m event \u001B[38;5;241m==\u001B[39m EventType\u001B[38;5;241m.\u001B[39mSTART:\n\u001B[0;32m---> 67\u001B[0m         \u001B[38;5;28;43mself\u001B[39;49m\u001B[38;5;241;43m.\u001B[39;49m\u001B[43mparser\u001B[49m\u001B[38;5;241;43m.\u001B[39;49m\u001B[43mstart\u001B[49m\u001B[43m(\u001B[49m\n\u001B[1;32m     68\u001B[0m \u001B[43m            \u001B[49m\u001B[38;5;28;43mself\u001B[39;49m\u001B[38;5;241;43m.\u001B[39;49m\u001B[43mclazz\u001B[49m\u001B[43m,\u001B[49m\n\u001B[1;32m     69\u001B[0m \u001B[43m            \u001B[49m\u001B[38;5;28;43mself\u001B[39;49m\u001B[38;5;241;43m.\u001B[39;49m\u001B[43mqueue\u001B[49m\u001B[43m,\u001B[49m\n\u001B[1;32m     70\u001B[0m \u001B[43m            \u001B[49m\u001B[38;5;28;43mself\u001B[39;49m\u001B[38;5;241;43m.\u001B[39;49m\u001B[43mobjects\u001B[49m\u001B[43m,\u001B[49m\n\u001B[1;32m     71\u001B[0m \u001B[43m            \u001B[49m\u001B[43melement\u001B[49m\u001B[38;5;241;43m.\u001B[39;49m\u001B[43mtag\u001B[49m\u001B[43m,\u001B[49m\n\u001B[1;32m     72\u001B[0m \u001B[43m            \u001B[49m\u001B[43melement\u001B[49m\u001B[38;5;241;43m.\u001B[39;49m\u001B[43mattrib\u001B[49m\u001B[43m,\u001B[49m\n\u001B[1;32m     73\u001B[0m \u001B[43m            \u001B[49m\u001B[38;5;28;43mself\u001B[39;49m\u001B[38;5;241;43m.\u001B[39;49m\u001B[43mmerge_parent_namespaces\u001B[49m\u001B[43m(\u001B[49m\u001B[43mns_map\u001B[49m\u001B[43m)\u001B[49m\u001B[43m,\u001B[49m\n\u001B[1;32m     74\u001B[0m \u001B[43m        \u001B[49m\u001B[43m)\u001B[49m\n\u001B[1;32m     75\u001B[0m         ns_map \u001B[38;5;241m=\u001B[39m {}\n\u001B[1;32m     76\u001B[0m     \u001B[38;5;28;01melif\u001B[39;00m event \u001B[38;5;241m==\u001B[39m EventType\u001B[38;5;241m.\u001B[39mEND:\n",
      "File \u001B[0;32m~/Documents/GitHub/SGrPython/SGrPython/lib/python3.11/site-packages/xsdata/formats/dataclass/parsers/bases.py:93\u001B[0m, in \u001B[0;36mNodeParser.start\u001B[0;34m(self, clazz, queue, objects, qname, attrs, ns_map)\u001B[0m\n\u001B[1;32m     91\u001B[0m         child \u001B[38;5;241m=\u001B[39m cast(XmlNode, WrapperNode(parent\u001B[38;5;241m=\u001B[39mitem))\n\u001B[1;32m     92\u001B[0m     \u001B[38;5;28;01melse\u001B[39;00m:\n\u001B[0;32m---> 93\u001B[0m         child \u001B[38;5;241m=\u001B[39m \u001B[43mitem\u001B[49m\u001B[38;5;241;43m.\u001B[39;49m\u001B[43mchild\u001B[49m\u001B[43m(\u001B[49m\u001B[43mqname\u001B[49m\u001B[43m,\u001B[49m\u001B[43m \u001B[49m\u001B[43mattrs\u001B[49m\u001B[43m,\u001B[49m\u001B[43m \u001B[49m\u001B[43mns_map\u001B[49m\u001B[43m,\u001B[49m\u001B[43m \u001B[49m\u001B[38;5;28;43mlen\u001B[39;49m\u001B[43m(\u001B[49m\u001B[43mobjects\u001B[49m\u001B[43m)\u001B[49m\u001B[43m)\u001B[49m\n\u001B[1;32m     94\u001B[0m \u001B[38;5;28;01mexcept\u001B[39;00m \u001B[38;5;167;01mIndexError\u001B[39;00m:\n\u001B[1;32m     95\u001B[0m     xsi_type \u001B[38;5;241m=\u001B[39m ParserUtils\u001B[38;5;241m.\u001B[39mxsi_type(attrs, ns_map)\n",
      "File \u001B[0;32m~/Documents/GitHub/SGrPython/SGrPython/lib/python3.11/site-packages/xsdata/formats/dataclass/parsers/nodes/element.py:349\u001B[0m, in \u001B[0;36mElementNode.child\u001B[0;34m(self, qname, attrs, ns_map, position)\u001B[0m\n\u001B[1;32m    346\u001B[0m             \u001B[38;5;28;01mreturn\u001B[39;00m node\n\u001B[1;32m    348\u001B[0m \u001B[38;5;28;01mif\u001B[39;00m \u001B[38;5;28mself\u001B[39m\u001B[38;5;241m.\u001B[39mconfig\u001B[38;5;241m.\u001B[39mfail_on_unknown_properties:\n\u001B[0;32m--> 349\u001B[0m     \u001B[38;5;28;01mraise\u001B[39;00m ParserError(\u001B[38;5;124mf\u001B[39m\u001B[38;5;124m\"\u001B[39m\u001B[38;5;124mUnknown property \u001B[39m\u001B[38;5;132;01m{\u001B[39;00m\u001B[38;5;28mself\u001B[39m\u001B[38;5;241m.\u001B[39mmeta\u001B[38;5;241m.\u001B[39mqname\u001B[38;5;132;01m}\u001B[39;00m\u001B[38;5;124m:\u001B[39m\u001B[38;5;132;01m{\u001B[39;00mqname\u001B[38;5;132;01m}\u001B[39;00m\u001B[38;5;124m\"\u001B[39m)\n\u001B[1;32m    351\u001B[0m \u001B[38;5;28;01mreturn\u001B[39;00m nodes\u001B[38;5;241m.\u001B[39mSkipNode()\n",
      "\u001B[0;31mParserError\u001B[0m: Unknown property {http://www.smartgridready.com/ns/V0/}DeviceFrame:{http://www.smartgridready.com/ns/V0/}genericAttributeList"
     ]
    }
   ],
   "source": [
    "modbus_rtu_device = SGrDevice()\n",
    "modbus_rtu_device.update_xml_spec('/Users/robin/Documents/GitHub/SGrPython/examples/xml/SGr_04_0014_0000_WAGO_SmartMeterV0.2.1 (1).xml')\n",
    "modbus_rtu_device.get_configuration_params()\n",
    "modbus_rtu_device.build()\n",
    "modbus_rtu_device.get_function_profiles()\n",
    "modbus_rtu_device.get_function_profile('VoltageAC').get_data_point('VoltageL1').read()"
   ]
  },
  {
   "cell_type": "code",
   "execution_count": 5,
   "outputs": [
    {
     "ename": "ParserError",
     "evalue": "Unknown property {http://www.smartgridready.com/ns/V0/}DeviceFrame:{http://www.smartgridready.com/ns/V0/}genericAttributeList",
     "output_type": "error",
     "traceback": [
      "\u001B[0;31m---------------------------------------------------------------------------\u001B[0m",
      "\u001B[0;31mParserError\u001B[0m                               Traceback (most recent call last)",
      "Cell \u001B[0;32mIn[5], line 4\u001B[0m\n\u001B[1;32m      2\u001B[0m modbus_tcp_device\u001B[38;5;241m.\u001B[39mupdate_xml_spec(\u001B[38;5;124m'\u001B[39m\u001B[38;5;124m./xml/SGr_04_0014_0000_WAGO_SmartMeterV0.2.1 (1).xml\u001B[39m\u001B[38;5;124m'\u001B[39m)\n\u001B[1;32m      3\u001B[0m modbus_tcp_device\u001B[38;5;241m.\u001B[39mget_configuration_params()\n\u001B[0;32m----> 4\u001B[0m \u001B[43mmodbus_tcp_device\u001B[49m\u001B[38;5;241;43m.\u001B[39;49m\u001B[43mbuild\u001B[49m\u001B[43m(\u001B[49m\u001B[43m)\u001B[49m\n\u001B[1;32m      5\u001B[0m modbus_tcp_device\u001B[38;5;241m.\u001B[39mget_function_profiles()\n\u001B[1;32m      6\u001B[0m modbus_tcp_device\u001B[38;5;241m.\u001B[39mget_data_points()\n",
      "File \u001B[0;32m~/Documents/GitHub/SGrPython/sgr_library/sgr_device.py:52\u001B[0m, in \u001B[0;36mSGrDevice.build\u001B[0;34m(self)\u001B[0m\n\u001B[1;32m     51\u001B[0m \u001B[38;5;28;01mdef\u001B[39;00m \u001B[38;5;21mbuild\u001B[39m(\u001B[38;5;28mself\u001B[39m):\n\u001B[0;32m---> 52\u001B[0m     \u001B[38;5;28mself\u001B[39m\u001B[38;5;241m.\u001B[39m_interface \u001B[38;5;241m=\u001B[39m \u001B[38;5;28;43mself\u001B[39;49m\u001B[38;5;241;43m.\u001B[39;49m\u001B[43m_builder\u001B[49m\u001B[38;5;241;43m.\u001B[39;49m\u001B[43mbuild\u001B[49m\u001B[43m(\u001B[49m\u001B[43m)\u001B[49m\n",
      "File \u001B[0;32m~/Documents/GitHub/SGrPython/sgr_library/generic_interface.py:123\u001B[0m, in \u001B[0;36mGenericSGrDeviceBuilder.build\u001B[0;34m(self)\u001B[0m\n\u001B[1;32m    120\u001B[0m     \u001B[38;5;28;01mraise\u001B[39;00m \u001B[38;5;167;01mException\u001B[39;00m(\u001B[38;5;124mf\u001B[39m\u001B[38;5;124m'\u001B[39m\u001B[38;5;124munsupported loader configuration, \u001B[39m\u001B[38;5;132;01m{\u001B[39;00m\u001B[38;5;28mself\u001B[39m\u001B[38;5;241m.\u001B[39m_type\u001B[38;5;132;01m}\u001B[39;00m\u001B[38;5;124m'\u001B[39m)\n\u001B[1;32m    122\u001B[0m spec, config \u001B[38;5;241m=\u001B[39m \u001B[38;5;28mself\u001B[39m\u001B[38;5;241m.\u001B[39mreplace_variables()\n\u001B[0;32m--> 123\u001B[0m xml \u001B[38;5;241m=\u001B[39m \u001B[43mloaders\u001B[49m\u001B[43m[\u001B[49m\u001B[43mSGrConfiguration\u001B[49m\u001B[38;5;241;43m.\u001B[39;49m\u001B[43mSTRING\u001B[49m\u001B[43m]\u001B[49m\u001B[43m(\u001B[49m\u001B[43mspec\u001B[49m\u001B[43m)\u001B[49m\n\u001B[1;32m    124\u001B[0m protocol \u001B[38;5;241m=\u001B[39m resolve_protocol(xml)\n\u001B[1;32m    126\u001B[0m \u001B[38;5;28;01mreturn\u001B[39;00m device_builders[protocol](xml, config)\n",
      "File \u001B[0;32m~/Documents/GitHub/SGrPython/sgr_library/generic_interface.py:32\u001B[0m, in \u001B[0;36mstring_loader\u001B[0;34m(xml_str)\u001B[0m\n\u001B[1;32m     30\u001B[0m \u001B[38;5;28;01mdef\u001B[39;00m \u001B[38;5;21mstring_loader\u001B[39m(xml_str: \u001B[38;5;28mstr\u001B[39m) \u001B[38;5;241m-\u001B[39m\u001B[38;5;241m>\u001B[39m DeviceFrame:\n\u001B[1;32m     31\u001B[0m     parser \u001B[38;5;241m=\u001B[39m XmlParser(context\u001B[38;5;241m=\u001B[39mXmlContext())\n\u001B[0;32m---> 32\u001B[0m     \u001B[38;5;28;01mreturn\u001B[39;00m \u001B[43mparser\u001B[49m\u001B[38;5;241;43m.\u001B[39;49m\u001B[43mfrom_string\u001B[49m\u001B[43m(\u001B[49m\u001B[43mxml_str\u001B[49m\u001B[43m,\u001B[49m\u001B[43m \u001B[49m\u001B[43mDeviceFrame\u001B[49m\u001B[43m)\u001B[49m\n",
      "File \u001B[0;32m~/Documents/GitHub/SGrPython/SGrPython/lib/python3.11/site-packages/xsdata/formats/bindings.py:25\u001B[0m, in \u001B[0;36mAbstractParser.from_string\u001B[0;34m(self, source, clazz)\u001B[0m\n\u001B[1;32m     23\u001B[0m \u001B[38;5;28;01mdef\u001B[39;00m \u001B[38;5;21mfrom_string\u001B[39m(\u001B[38;5;28mself\u001B[39m, source: \u001B[38;5;28mstr\u001B[39m, clazz: Optional[Type[T]] \u001B[38;5;241m=\u001B[39m \u001B[38;5;28;01mNone\u001B[39;00m) \u001B[38;5;241m-\u001B[39m\u001B[38;5;241m>\u001B[39m T:\n\u001B[1;32m     24\u001B[0m \u001B[38;5;250m    \u001B[39m\u001B[38;5;124;03m\"\"\"Parse the input string and return the resulting object tree.\"\"\"\u001B[39;00m\n\u001B[0;32m---> 25\u001B[0m     \u001B[38;5;28;01mreturn\u001B[39;00m \u001B[38;5;28;43mself\u001B[39;49m\u001B[38;5;241;43m.\u001B[39;49m\u001B[43mfrom_bytes\u001B[49m\u001B[43m(\u001B[49m\u001B[43msource\u001B[49m\u001B[38;5;241;43m.\u001B[39;49m\u001B[43mencode\u001B[49m\u001B[43m(\u001B[49m\u001B[43m)\u001B[49m\u001B[43m,\u001B[49m\u001B[43m \u001B[49m\u001B[43mclazz\u001B[49m\u001B[43m)\u001B[49m\n",
      "File \u001B[0;32m~/Documents/GitHub/SGrPython/SGrPython/lib/python3.11/site-packages/xsdata/formats/bindings.py:29\u001B[0m, in \u001B[0;36mAbstractParser.from_bytes\u001B[0;34m(self, source, clazz)\u001B[0m\n\u001B[1;32m     27\u001B[0m \u001B[38;5;28;01mdef\u001B[39;00m \u001B[38;5;21mfrom_bytes\u001B[39m(\u001B[38;5;28mself\u001B[39m, source: \u001B[38;5;28mbytes\u001B[39m, clazz: Optional[Type[T]] \u001B[38;5;241m=\u001B[39m \u001B[38;5;28;01mNone\u001B[39;00m) \u001B[38;5;241m-\u001B[39m\u001B[38;5;241m>\u001B[39m T:\n\u001B[1;32m     28\u001B[0m \u001B[38;5;250m    \u001B[39m\u001B[38;5;124;03m\"\"\"Parse the input bytes array return the resulting object tree.\"\"\"\u001B[39;00m\n\u001B[0;32m---> 29\u001B[0m     \u001B[38;5;28;01mreturn\u001B[39;00m \u001B[38;5;28;43mself\u001B[39;49m\u001B[38;5;241;43m.\u001B[39;49m\u001B[43mparse\u001B[49m\u001B[43m(\u001B[49m\u001B[43mio\u001B[49m\u001B[38;5;241;43m.\u001B[39;49m\u001B[43mBytesIO\u001B[49m\u001B[43m(\u001B[49m\u001B[43msource\u001B[49m\u001B[43m)\u001B[49m\u001B[43m,\u001B[49m\u001B[43m \u001B[49m\u001B[43mclazz\u001B[49m\u001B[43m)\u001B[49m\n",
      "File \u001B[0;32m~/Documents/GitHub/SGrPython/SGrPython/lib/python3.11/site-packages/xsdata/formats/dataclass/parsers/bases.py:54\u001B[0m, in \u001B[0;36mNodeParser.parse\u001B[0;34m(self, source, clazz)\u001B[0m\n\u001B[1;32m     51\u001B[0m     warnings\u001B[38;5;241m.\u001B[39mfilterwarnings(\u001B[38;5;124m\"\u001B[39m\u001B[38;5;124merror\u001B[39m\u001B[38;5;124m\"\u001B[39m, category\u001B[38;5;241m=\u001B[39mConverterWarning)\n\u001B[1;32m     53\u001B[0m \u001B[38;5;28;01mtry\u001B[39;00m:\n\u001B[0;32m---> 54\u001B[0m     result \u001B[38;5;241m=\u001B[39m \u001B[43mhandler\u001B[49m\u001B[38;5;241;43m.\u001B[39;49m\u001B[43mparse\u001B[49m\u001B[43m(\u001B[49m\u001B[43msource\u001B[49m\u001B[43m)\u001B[49m\n\u001B[1;32m     55\u001B[0m \u001B[38;5;28;01mexcept\u001B[39;00m (ConverterWarning, \u001B[38;5;167;01mSyntaxError\u001B[39;00m) \u001B[38;5;28;01mas\u001B[39;00m e:\n\u001B[1;32m     56\u001B[0m     \u001B[38;5;28;01mraise\u001B[39;00m ParserError(e)\n",
      "File \u001B[0;32m~/Documents/GitHub/SGrPython/SGrPython/lib/python3.11/site-packages/xsdata/formats/dataclass/parsers/handlers/native.py:60\u001B[0m, in \u001B[0;36mXmlEventHandler.parse\u001B[0;34m(self, source)\u001B[0m\n\u001B[1;32m     57\u001B[0m \u001B[38;5;28;01melse\u001B[39;00m:\n\u001B[1;32m     58\u001B[0m     ctx \u001B[38;5;241m=\u001B[39m etree\u001B[38;5;241m.\u001B[39miterparse(source, EVENTS)  \u001B[38;5;66;03m# nosec\u001B[39;00m\n\u001B[0;32m---> 60\u001B[0m \u001B[38;5;28;01mreturn\u001B[39;00m \u001B[38;5;28;43mself\u001B[39;49m\u001B[38;5;241;43m.\u001B[39;49m\u001B[43mprocess_context\u001B[49m\u001B[43m(\u001B[49m\u001B[43mctx\u001B[49m\u001B[43m)\u001B[49m\n",
      "File \u001B[0;32m~/Documents/GitHub/SGrPython/SGrPython/lib/python3.11/site-packages/xsdata/formats/dataclass/parsers/handlers/native.py:67\u001B[0m, in \u001B[0;36mXmlEventHandler.process_context\u001B[0;34m(self, context)\u001B[0m\n\u001B[1;32m     65\u001B[0m \u001B[38;5;28;01mfor\u001B[39;00m event, element \u001B[38;5;129;01min\u001B[39;00m context:\n\u001B[1;32m     66\u001B[0m     \u001B[38;5;28;01mif\u001B[39;00m event \u001B[38;5;241m==\u001B[39m EventType\u001B[38;5;241m.\u001B[39mSTART:\n\u001B[0;32m---> 67\u001B[0m         \u001B[38;5;28;43mself\u001B[39;49m\u001B[38;5;241;43m.\u001B[39;49m\u001B[43mparser\u001B[49m\u001B[38;5;241;43m.\u001B[39;49m\u001B[43mstart\u001B[49m\u001B[43m(\u001B[49m\n\u001B[1;32m     68\u001B[0m \u001B[43m            \u001B[49m\u001B[38;5;28;43mself\u001B[39;49m\u001B[38;5;241;43m.\u001B[39;49m\u001B[43mclazz\u001B[49m\u001B[43m,\u001B[49m\n\u001B[1;32m     69\u001B[0m \u001B[43m            \u001B[49m\u001B[38;5;28;43mself\u001B[39;49m\u001B[38;5;241;43m.\u001B[39;49m\u001B[43mqueue\u001B[49m\u001B[43m,\u001B[49m\n\u001B[1;32m     70\u001B[0m \u001B[43m            \u001B[49m\u001B[38;5;28;43mself\u001B[39;49m\u001B[38;5;241;43m.\u001B[39;49m\u001B[43mobjects\u001B[49m\u001B[43m,\u001B[49m\n\u001B[1;32m     71\u001B[0m \u001B[43m            \u001B[49m\u001B[43melement\u001B[49m\u001B[38;5;241;43m.\u001B[39;49m\u001B[43mtag\u001B[49m\u001B[43m,\u001B[49m\n\u001B[1;32m     72\u001B[0m \u001B[43m            \u001B[49m\u001B[43melement\u001B[49m\u001B[38;5;241;43m.\u001B[39;49m\u001B[43mattrib\u001B[49m\u001B[43m,\u001B[49m\n\u001B[1;32m     73\u001B[0m \u001B[43m            \u001B[49m\u001B[38;5;28;43mself\u001B[39;49m\u001B[38;5;241;43m.\u001B[39;49m\u001B[43mmerge_parent_namespaces\u001B[49m\u001B[43m(\u001B[49m\u001B[43mns_map\u001B[49m\u001B[43m)\u001B[49m\u001B[43m,\u001B[49m\n\u001B[1;32m     74\u001B[0m \u001B[43m        \u001B[49m\u001B[43m)\u001B[49m\n\u001B[1;32m     75\u001B[0m         ns_map \u001B[38;5;241m=\u001B[39m {}\n\u001B[1;32m     76\u001B[0m     \u001B[38;5;28;01melif\u001B[39;00m event \u001B[38;5;241m==\u001B[39m EventType\u001B[38;5;241m.\u001B[39mEND:\n",
      "File \u001B[0;32m~/Documents/GitHub/SGrPython/SGrPython/lib/python3.11/site-packages/xsdata/formats/dataclass/parsers/bases.py:93\u001B[0m, in \u001B[0;36mNodeParser.start\u001B[0;34m(self, clazz, queue, objects, qname, attrs, ns_map)\u001B[0m\n\u001B[1;32m     91\u001B[0m         child \u001B[38;5;241m=\u001B[39m cast(XmlNode, WrapperNode(parent\u001B[38;5;241m=\u001B[39mitem))\n\u001B[1;32m     92\u001B[0m     \u001B[38;5;28;01melse\u001B[39;00m:\n\u001B[0;32m---> 93\u001B[0m         child \u001B[38;5;241m=\u001B[39m \u001B[43mitem\u001B[49m\u001B[38;5;241;43m.\u001B[39;49m\u001B[43mchild\u001B[49m\u001B[43m(\u001B[49m\u001B[43mqname\u001B[49m\u001B[43m,\u001B[49m\u001B[43m \u001B[49m\u001B[43mattrs\u001B[49m\u001B[43m,\u001B[49m\u001B[43m \u001B[49m\u001B[43mns_map\u001B[49m\u001B[43m,\u001B[49m\u001B[43m \u001B[49m\u001B[38;5;28;43mlen\u001B[39;49m\u001B[43m(\u001B[49m\u001B[43mobjects\u001B[49m\u001B[43m)\u001B[49m\u001B[43m)\u001B[49m\n\u001B[1;32m     94\u001B[0m \u001B[38;5;28;01mexcept\u001B[39;00m \u001B[38;5;167;01mIndexError\u001B[39;00m:\n\u001B[1;32m     95\u001B[0m     xsi_type \u001B[38;5;241m=\u001B[39m ParserUtils\u001B[38;5;241m.\u001B[39mxsi_type(attrs, ns_map)\n",
      "File \u001B[0;32m~/Documents/GitHub/SGrPython/SGrPython/lib/python3.11/site-packages/xsdata/formats/dataclass/parsers/nodes/element.py:349\u001B[0m, in \u001B[0;36mElementNode.child\u001B[0;34m(self, qname, attrs, ns_map, position)\u001B[0m\n\u001B[1;32m    346\u001B[0m             \u001B[38;5;28;01mreturn\u001B[39;00m node\n\u001B[1;32m    348\u001B[0m \u001B[38;5;28;01mif\u001B[39;00m \u001B[38;5;28mself\u001B[39m\u001B[38;5;241m.\u001B[39mconfig\u001B[38;5;241m.\u001B[39mfail_on_unknown_properties:\n\u001B[0;32m--> 349\u001B[0m     \u001B[38;5;28;01mraise\u001B[39;00m ParserError(\u001B[38;5;124mf\u001B[39m\u001B[38;5;124m\"\u001B[39m\u001B[38;5;124mUnknown property \u001B[39m\u001B[38;5;132;01m{\u001B[39;00m\u001B[38;5;28mself\u001B[39m\u001B[38;5;241m.\u001B[39mmeta\u001B[38;5;241m.\u001B[39mqname\u001B[38;5;132;01m}\u001B[39;00m\u001B[38;5;124m:\u001B[39m\u001B[38;5;132;01m{\u001B[39;00mqname\u001B[38;5;132;01m}\u001B[39;00m\u001B[38;5;124m\"\u001B[39m)\n\u001B[1;32m    351\u001B[0m \u001B[38;5;28;01mreturn\u001B[39;00m nodes\u001B[38;5;241m.\u001B[39mSkipNode()\n",
      "\u001B[0;31mParserError\u001B[0m: Unknown property {http://www.smartgridready.com/ns/V0/}DeviceFrame:{http://www.smartgridready.com/ns/V0/}genericAttributeList"
     ]
    }
   ],
   "source": [
    "modbus_tcp_device = SGrDevice()\n",
    "modbus_tcp_device.update_xml_spec('./xml/SGr_04_0014_0000_WAGO_SmartMeterV0.2.1 (1).xml')\n",
    "modbus_tcp_device.get_configuration_params()\n",
    "modbus_tcp_device.build()\n",
    "modbus_tcp_device.get_function_profiles()\n",
    "modbus_tcp_device.get_data_points()\n"
   ],
   "metadata": {
    "collapsed": false,
    "ExecuteTime": {
     "end_time": "2024-01-20T09:19:57.135882Z",
     "start_time": "2024-01-20T09:19:57.081849Z"
    }
   },
   "id": "6190f9d93fbb892"
  },
  {
   "cell_type": "code",
   "execution_count": 16,
   "outputs": [
    {
     "data": {
      "text/plain": "<sgr_library.modbusRTU_interface_async.SgrModbusRtuInterface at 0x11232ef10>"
     },
     "execution_count": 16,
     "metadata": {},
     "output_type": "execute_result"
    }
   ],
   "source": [],
   "metadata": {
    "collapsed": false,
    "ExecuteTime": {
     "end_time": "2023-12-24T12:47:11.210853Z",
     "start_time": "2023-12-24T12:47:11.189614Z"
    }
   },
   "id": "34dc1ca7eb7f84a4"
  },
  {
   "cell_type": "code",
   "execution_count": null,
   "outputs": [],
   "source": [
    "for fp in modbus_component.root.interface_list.modbus_interface.functional_profile_list.functional_profile_list_element:\n",
    "    for dp in fp.data_point_list.data_point_list_element:\n",
    "        if dp.data_point.data_type.string:\n",
    "            print(dp.data_point)"
   ],
   "metadata": {
    "collapsed": false
   },
   "id": "7a3b3b3ce3a06be4"
  },
  {
   "cell_type": "code",
   "execution_count": 5,
   "outputs": [],
   "source": [
    "import configparser"
   ],
   "metadata": {
    "collapsed": false,
    "ExecuteTime": {
     "end_time": "2023-12-25T16:30:15.091843Z",
     "start_time": "2023-12-25T16:30:15.086689Z"
    }
   },
   "id": "672b828254465253"
  },
  {
   "cell_type": "code",
   "execution_count": 6,
   "outputs": [
    {
     "data": {
      "text/plain": "['config_CLEMAPEnMon_ressource_template.ini']"
     },
     "execution_count": 6,
     "metadata": {},
     "output_type": "execute_result"
    }
   ],
   "source": [
    "config = configparser.ConfigParser()\n",
    "config.read('config_CLEMAPEnMon_ressource_template.ini')\n"
   ],
   "metadata": {
    "collapsed": false,
    "ExecuteTime": {
     "end_time": "2023-12-25T16:31:27.398610Z",
     "start_time": "2023-12-25T16:31:27.387809Z"
    }
   },
   "id": "3410fc8774980ffe"
  },
  {
   "cell_type": "code",
   "execution_count": 8,
   "outputs": [],
   "source": [
    "x = config.items()"
   ],
   "metadata": {
    "collapsed": false,
    "ExecuteTime": {
     "end_time": "2023-12-25T16:32:19.620555Z",
     "start_time": "2023-12-25T16:32:19.612744Z"
    }
   },
   "id": "48ba33128c31ce6b"
  },
  {
   "cell_type": "code",
   "execution_count": 13,
   "outputs": [
    {
     "name": "stdout",
     "output_type": "stream",
     "text": [
      "DEFAULT\n",
      "AUTHENTICATION\n",
      "username email@example.com\n",
      "password ***password***\n",
      "RESSOURCE\n",
      "sensor_id ***very-long-id***\n"
     ]
    }
   ],
   "source": [
    "for section, items in config.items():\n",
    "    print(section)\n",
    "    for item in items:\n",
    "        print(item, config.get(section, item))\n"
   ],
   "metadata": {
    "collapsed": false,
    "ExecuteTime": {
     "end_time": "2023-12-25T16:40:15.629243Z",
     "start_time": "2023-12-25T16:40:15.620116Z"
    }
   },
   "id": "5a1246d0b5187d10"
  },
  {
   "cell_type": "code",
   "execution_count": null,
   "outputs": [],
   "source": [],
   "metadata": {
    "collapsed": false
   },
   "id": "2c8d0fec28b85b0f"
  }
 ],
 "metadata": {
  "kernelspec": {
   "display_name": "Python 3",
   "language": "python",
   "name": "python3"
  },
  "language_info": {
   "codemirror_mode": {
    "name": "ipython",
    "version": 2
   },
   "file_extension": ".py",
   "mimetype": "text/x-python",
   "name": "python",
   "nbconvert_exporter": "python",
   "pygments_lexer": "ipython2",
   "version": "2.7.6"
  }
 },
 "nbformat": 4,
 "nbformat_minor": 5
}
