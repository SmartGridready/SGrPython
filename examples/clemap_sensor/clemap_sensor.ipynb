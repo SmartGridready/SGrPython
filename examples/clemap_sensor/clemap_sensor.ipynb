{
 "cells": [
  {
   "cell_type": "code",
   "execution_count": 1,
   "id": "initial_id",
   "metadata": {
    "collapsed": true,
    "ExecuteTime": {
     "end_time": "2024-02-11T14:27:15.197785Z",
     "start_time": "2024-02-11T14:27:13.255096Z"
    }
   },
   "outputs": [
    {
     "data": {
      "text/plain": "('CLEMAP Energy Monitor',\n {'ActivePowerAC': {'ActivePowerACtot': (<DataDirection.R: 'R'>,\n    <DataTypes.FLOAT: ('FLOAT',)>),\n   'ActivePowerACL1': (<DataDirection.R: 'R'>, <DataTypes.FLOAT: ('FLOAT',)>),\n   'ActivePowerACL2': (<DataDirection.R: 'R'>, <DataTypes.FLOAT: ('FLOAT',)>),\n   'ActivePowerACL3': (<DataDirection.R: 'R'>, <DataTypes.FLOAT: ('FLOAT',)>)},\n  'ReactivePowerAC': {'ReactivePowerACtot': (<DataDirection.R: 'R'>,\n    <DataTypes.FLOAT: ('FLOAT',)>),\n   'ReactivePowerACL1': (<DataDirection.R: 'R'>,\n    <DataTypes.FLOAT: ('FLOAT',)>),\n   'ReactivePowerACL2': (<DataDirection.R: 'R'>,\n    <DataTypes.FLOAT: ('FLOAT',)>),\n   'ReactivePowerACL3': (<DataDirection.R: 'R'>,\n    <DataTypes.FLOAT: ('FLOAT',)>)},\n  'ActiveEnergyAC': {'ActiveEnergyACTOT': (<DataDirection.R: 'R'>,\n    <DataTypes.FLOAT: ('FLOAT',)>),\n   'ActiveEnergyACL1': (<DataDirection.R: 'R'>, <DataTypes.FLOAT: ('FLOAT',)>),\n   'ActiveEnergyACL2': (<DataDirection.R: 'R'>, <DataTypes.FLOAT: ('FLOAT',)>),\n   'ActiveEnergyACL3': (<DataDirection.R: 'R'>,\n    <DataTypes.FLOAT: ('FLOAT',)>)},\n  'VoltageAC': {'VoltageTOT': (<DataDirection.R: 'R'>,\n    <DataTypes.FLOAT: ('FLOAT',)>),\n   'VoltageL1': (<DataDirection.R: 'R'>, <DataTypes.FLOAT: ('FLOAT',)>),\n   'VoltageL2': (<DataDirection.R: 'R'>, <DataTypes.FLOAT: ('FLOAT',)>),\n   'VoltageL3': (<DataDirection.R: 'R'>, <DataTypes.FLOAT: ('FLOAT',)>)},\n  'CurrentAC': {'CurrentTOT': (<DataDirection.R: 'R'>,\n    <DataTypes.FLOAT: ('FLOAT',)>),\n   'CurrentL1': (<DataDirection.R: 'R'>, <DataTypes.FLOAT: ('FLOAT',)>),\n   'CurrentL2': (<DataDirection.R: 'R'>, <DataTypes.FLOAT: ('FLOAT',)>),\n   'CurrentL3': (<DataDirection.R: 'R'>, <DataTypes.FLOAT: ('FLOAT',)>)},\n  'ApparentPowerAC': {'ApparentPowerTOT': (<DataDirection.R: 'R'>,\n    <DataTypes.FLOAT: ('FLOAT',)>),\n   'ApparentPowerL1': (<DataDirection.R: 'R'>, <DataTypes.FLOAT: ('FLOAT',)>),\n   'ApparentPowerL2': (<DataDirection.R: 'R'>, <DataTypes.FLOAT: ('FLOAT',)>),\n   'ApparentPowerL3': (<DataDirection.R: 'R'>, <DataTypes.FLOAT: ('FLOAT',)>)},\n  'PowerFactor': {'PowerFactorTOT': (<DataDirection.R: 'R'>,\n    <DataTypes.FLOAT: ('FLOAT',)>),\n   'PowerFactorL1': (<DataDirection.R: 'R'>, <DataTypes.FLOAT: ('FLOAT',)>),\n   'PowerFactorL2': (<DataDirection.R: 'R'>, <DataTypes.FLOAT: ('FLOAT',)>),\n   'PowerFactorL3': (<DataDirection.R: 'R'>, <DataTypes.FLOAT: ('FLOAT',)>)}})"
     },
     "execution_count": 1,
     "metadata": {},
     "output_type": "execute_result"
    }
   ],
   "source": [
    "from sgr_library import SGrDevice\n",
    "\n",
    "device = SGrDevice()\n",
    "device \\\n",
    " .update_xml_spec('./SGr_04_mmmm_dddd_CLEMAPEnergyMonitorEIV0.2.1.xml') \\\n",
    " .update_config('./config_CLEMAPEnMon_ressource_default.ini') \\\n",
    " .build()\n",
    "\n",
    "await device.connect()\n",
    "\n",
    "device.info()\n"
   ]
  },
  {
   "cell_type": "code",
   "outputs": [
    {
     "name": "stdout",
     "output_type": "stream",
     "text": [
      "{('ActivePowerAC', 'ActivePowerACtot'): -28.796, ('ActivePowerAC', 'ActivePowerACL1'): -30.126, ('ActivePowerAC', 'ActivePowerACL2'): 1.33, ('ActivePowerAC', 'ActivePowerACL3'): 0, ('ReactivePowerAC', 'ReactivePowerACtot'): 61.001, ('ReactivePowerAC', 'ReactivePowerACL1'): 54.062, ('ReactivePowerAC', 'ReactivePowerACL2'): 6.939, ('ReactivePowerAC', 'ReactivePowerACL3'): 0, ('ActiveEnergyAC', 'ActiveEnergyACTOT'): -0.482, ('ActiveEnergyAC', 'ActiveEnergyACL1'): -0.504, ('ActiveEnergyAC', 'ActiveEnergyACL2'): 0.022, ('ActiveEnergyAC', 'ActiveEnergyACL3'): 0, ('VoltageAC', 'VoltageTOT'): 466.707, ('VoltageAC', 'VoltageL1'): 233.178, ('VoltageAC', 'VoltageL2'): 233.529, ('VoltageAC', 'VoltageL3'): 0, ('CurrentAC', 'CurrentTOT'): 0.341, ('CurrentAC', 'CurrentL1'): 0.323, ('CurrentAC', 'CurrentL2'): 0.018, ('CurrentAC', 'CurrentL3'): 0, ('ApparentPowerAC', 'ApparentPowerTOT'): 79.749, ('ApparentPowerAC', 'ApparentPowerL1'): 75.535, ('ApparentPowerAC', 'ApparentPowerL2'): 4.214, ('ApparentPowerAC', 'ApparentPowerL3'): 0, ('PowerFactor', 'PowerFactorTOT'): 32.914, ('PowerFactor', 'PowerFactorL1'): 31.599, ('PowerFactor', 'PowerFactorL2'): 0.315, ('PowerFactor', 'PowerFactorL3'): 1}\n",
      "{'PowerFactorTOT': 32.914, 'PowerFactorL1': 31.599, 'PowerFactorL2': 0.315, 'PowerFactorL3': 1}\n",
      "1\n"
     ]
    }
   ],
   "source": [
    "device_data = await device.read_data()\n",
    "print(device_data)\n",
    "\n",
    "fp = device.get_function_profile(\"PowerFactor\")\n",
    "fp_data = await fp.read()\n",
    "print(fp_data)\n",
    "\n",
    "\n",
    "dp = fp.get_data_point(\"PowerFactorL3\")\n",
    "dp_data = await dp.read()\n",
    "print(dp_data)\n",
    "\n",
    "\n"
   ],
   "metadata": {
    "collapsed": false,
    "ExecuteTime": {
     "end_time": "2024-02-11T14:27:17.470160Z",
     "start_time": "2024-02-11T14:27:16.524415Z"
    }
   },
   "id": "e574c102f8c88c52",
   "execution_count": 2
  },
  {
   "cell_type": "code",
   "outputs": [
    {
     "data": {
      "text/plain": "{'PowerFactorTOT': 32.914,\n 'PowerFactorL1': 31.599,\n 'PowerFactorL2': 0.315,\n 'PowerFactorL3': 1}"
     },
     "execution_count": 3,
     "metadata": {},
     "output_type": "execute_result"
    }
   ],
   "source": [
    "fp = device.get_function_profile(\"PowerFactor\")\n",
    "await fp.read()"
   ],
   "metadata": {
    "collapsed": false,
    "ExecuteTime": {
     "end_time": "2024-02-11T14:27:18.214094Z",
     "start_time": "2024-02-11T14:27:18.101896Z"
    }
   },
   "id": "ff1be864ba759067",
   "execution_count": 3
  },
  {
   "cell_type": "code",
   "outputs": [
    {
     "data": {
      "text/plain": "32.914"
     },
     "execution_count": 4,
     "metadata": {},
     "output_type": "execute_result"
    }
   ],
   "source": [
    "dp = fp.get_data_point(\"PowerFactorTOT\")\n",
    "await dp.read()"
   ],
   "metadata": {
    "collapsed": false,
    "ExecuteTime": {
     "end_time": "2024-02-11T14:27:19.103870Z",
     "start_time": "2024-02-11T14:27:19.019839Z"
    }
   },
   "id": "74d6a9b0e1deaaf8",
   "execution_count": 4
  },
  {
   "cell_type": "code",
   "outputs": [
    {
     "data": {
      "text/plain": "('PowerFactor',\n {'PowerFactorTOT': (<DataDirection.R: 'R'>, <DataTypes.FLOAT: ('FLOAT',)>),\n  'PowerFactorL1': (<DataDirection.R: 'R'>, <DataTypes.FLOAT: ('FLOAT',)>),\n  'PowerFactorL2': (<DataDirection.R: 'R'>, <DataTypes.FLOAT: ('FLOAT',)>),\n  'PowerFactorL3': (<DataDirection.R: 'R'>, <DataTypes.FLOAT: ('FLOAT',)>)})"
     },
     "execution_count": 5,
     "metadata": {},
     "output_type": "execute_result"
    }
   ],
   "source": [
    "fp.info()"
   ],
   "metadata": {
    "collapsed": false,
    "ExecuteTime": {
     "end_time": "2024-02-11T14:27:19.751125Z",
     "start_time": "2024-02-11T14:27:19.746737Z"
    }
   },
   "id": "f2b7972e1a54e95c",
   "execution_count": 5
  },
  {
   "cell_type": "code",
   "outputs": [],
   "source": [],
   "metadata": {
    "collapsed": false,
    "ExecuteTime": {
     "end_time": "2024-02-11T14:27:20.599075Z",
     "start_time": "2024-02-11T14:27:20.594242Z"
    }
   },
   "id": "6e23d35c6dc4a852",
   "execution_count": 5
  },
  {
   "cell_type": "code",
   "outputs": [],
   "source": [],
   "metadata": {
    "collapsed": false
   },
   "id": "b491e99263055ba"
  }
 ],
 "metadata": {
  "kernelspec": {
   "display_name": "Python 3",
   "language": "python",
   "name": "python3"
  },
  "language_info": {
   "codemirror_mode": {
    "name": "ipython",
    "version": 2
   },
   "file_extension": ".py",
   "mimetype": "text/x-python",
   "name": "python",
   "nbconvert_exporter": "python",
   "pygments_lexer": "ipython2",
   "version": "2.7.6"
  }
 },
 "nbformat": 4,
 "nbformat_minor": 5
}
