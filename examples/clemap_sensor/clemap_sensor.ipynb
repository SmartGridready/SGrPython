{
 "cells": [
  {
   "cell_type": "code",
   "outputs": [],
   "source": [
    "from sgr_library import SGrDevice\n",
    "\n",
    "import serial\n",
    "\n",
    "device = SGrDevice()\n",
    "device \\\n",
    " .update_xml_spec('./abb_terra_01.xml') \\\n",
    " .update_config('./config_CLEMAPEnMon_ressource_default.ini') \\\n",
    " .build()\n",
    "\n",
    "\n",
    "device.describe()\n",
    "device.configuration_parameter()\n",
    "await device.connect()"
   ],
   "metadata": {
    "collapsed": false
   },
   "id": "927e5c70103f5a51"
  },
  {
   "cell_type": "code",
   "outputs": [],
   "source": [
    "device.describe()\n",
    "await device.read_data()"
   ],
   "metadata": {
    "collapsed": false
   },
   "id": "b35d934f212ed723"
  },
  {
   "cell_type": "code",
   "outputs": [],
   "source": [
    "await device.get_data_point(('Frequency', 'Frequency')).read()\n",
    "\n"
   ],
   "metadata": {
    "collapsed": false
   },
   "id": "deee39795666dc"
  },
  {
   "cell_type": "code",
   "outputs": [],
   "source": [],
   "metadata": {
    "collapsed": false
   },
   "id": "4dc6314dfe7d19ee"
  }
 ],
 "metadata": {
  "kernelspec": {
   "display_name": "Python 3",
   "language": "python",
   "name": "python3"
  },
  "language_info": {
   "codemirror_mode": {
    "name": "ipython",
    "version": 2
   },
   "file_extension": ".py",
   "mimetype": "text/x-python",
   "name": "python",
   "nbconvert_exporter": "python",
   "pygments_lexer": "ipython2",
   "version": "2.7.6"
  }
 },
 "nbformat": 4,
 "nbformat_minor": 5
}
