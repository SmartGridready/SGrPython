{
 "cells": [
  {
   "cell_type": "code",
   "source": [
    "from sgr_library import SGrDevice\n",
    "import os\n",
    "import logging\n",
    "\n",
    "logger = logging.getLogger()\n",
    "logger.setLevel(logging.ERROR)\n",
    "os.environ['SGR_RTU_PORT'] = '/dev/tty.usbmodem56D11292701'\n",
    "device = SGrDevice()\n",
    "device \\\n",
    "    .update_xml_spec('./lehman.xml') \\\n",
    "    .update_config('./config_CLEMAPEnMon_ressource_default.ini') \\\n",
    "    .build()\n",
    "\n",
    "\n",
    "\n",
    "await device.connect()\n",
    "device.describe()\n",
    "# await device.connect()\n",
    "await device.read_data()\n",
    "\n",
    "#find me here /dev/tty.usbmodem56D11292701 E 19200\n"
   ],
   "metadata": {
    "collapsed": false
   },
   "id": "6b8baa4d5ef597fd",
   "outputs": [],
   "execution_count": null
  },
  {
   "cell_type": "code",
   "source": [
    "# await device.get_function_profile(\"ActivePowerAC\").get_data_point(\"ActivePowerACtot\").read()\n",
    "device.get_function_profiles()\n",
    "device.describe()"
   ],
   "metadata": {
    "collapsed": false,
    "ExecuteTime": {
     "end_time": "2024-06-28T07:40:27.124609Z",
     "start_time": "2024-06-28T07:40:27.120194Z"
    }
   },
   "id": "b8ba0b7a98f60e9e",
   "outputs": [
    {
     "data": {
      "text/plain": [
       "('CLEMAP Energy Monitor',\n",
       " {'ActivePowerAC': {'ActivePowerACtot': (<DataDirectionProduct.R: 'R'>,\n",
       "    <DataTypes.FLOAT: ('FLOAT',)>),\n",
       "   'ActivePowerACL1': (<DataDirectionProduct.R: 'R'>,\n",
       "    <DataTypes.FLOAT: ('FLOAT',)>),\n",
       "   'ActivePowerACL2': (<DataDirectionProduct.R: 'R'>,\n",
       "    <DataTypes.FLOAT: ('FLOAT',)>),\n",
       "   'ActivePowerACL3': (<DataDirectionProduct.R: 'R'>,\n",
       "    <DataTypes.FLOAT: ('FLOAT',)>)},\n",
       "  'ReactivePowerAC': {'ReactivePowerACtot': (<DataDirectionProduct.R: 'R'>,\n",
       "    <DataTypes.FLOAT: ('FLOAT',)>),\n",
       "   'ReactivePowerACL1': (<DataDirectionProduct.R: 'R'>,\n",
       "    <DataTypes.FLOAT: ('FLOAT',)>),\n",
       "   'ReactivePowerACL2': (<DataDirectionProduct.R: 'R'>,\n",
       "    <DataTypes.FLOAT: ('FLOAT',)>),\n",
       "   'ReactivePowerACL3': (<DataDirectionProduct.R: 'R'>,\n",
       "    <DataTypes.FLOAT: ('FLOAT',)>)},\n",
       "  'ActiveEnergyAC': {'ActiveEnergyACTOT': (<DataDirectionProduct.R: 'R'>,\n",
       "    <DataTypes.FLOAT: ('FLOAT',)>),\n",
       "   'ActiveEnergyACL1': (<DataDirectionProduct.R: 'R'>,\n",
       "    <DataTypes.FLOAT: ('FLOAT',)>),\n",
       "   'ActiveEnergyACL2': (<DataDirectionProduct.R: 'R'>,\n",
       "    <DataTypes.FLOAT: ('FLOAT',)>),\n",
       "   'ActiveEnergyACL3': (<DataDirectionProduct.R: 'R'>,\n",
       "    <DataTypes.FLOAT: ('FLOAT',)>)},\n",
       "  'VoltageAC': {'VoltageTOT': (<DataDirectionProduct.R: 'R'>,\n",
       "    <DataTypes.FLOAT: ('FLOAT',)>),\n",
       "   'VoltageL1': (<DataDirectionProduct.R: 'R'>, <DataTypes.FLOAT: ('FLOAT',)>),\n",
       "   'VoltageL2': (<DataDirectionProduct.R: 'R'>, <DataTypes.FLOAT: ('FLOAT',)>),\n",
       "   'VoltageL3': (<DataDirectionProduct.R: 'R'>,\n",
       "    <DataTypes.FLOAT: ('FLOAT',)>)},\n",
       "  'CurrentAC': {'CurrentTOT': (<DataDirectionProduct.R: 'R'>,\n",
       "    <DataTypes.FLOAT: ('FLOAT',)>),\n",
       "   'CurrentL1': (<DataDirectionProduct.R: 'R'>, <DataTypes.FLOAT: ('FLOAT',)>),\n",
       "   'CurrentL2': (<DataDirectionProduct.R: 'R'>, <DataTypes.FLOAT: ('FLOAT',)>),\n",
       "   'CurrentL3': (<DataDirectionProduct.R: 'R'>,\n",
       "    <DataTypes.FLOAT: ('FLOAT',)>)},\n",
       "  'ApparentPowerAC': {'ApparentPowerTOT': (<DataDirectionProduct.R: 'R'>,\n",
       "    <DataTypes.FLOAT: ('FLOAT',)>),\n",
       "   'ApparentPowerL1': (<DataDirectionProduct.R: 'R'>,\n",
       "    <DataTypes.FLOAT: ('FLOAT',)>),\n",
       "   'ApparentPowerL2': (<DataDirectionProduct.R: 'R'>,\n",
       "    <DataTypes.FLOAT: ('FLOAT',)>),\n",
       "   'ApparentPowerL3': (<DataDirectionProduct.R: 'R'>,\n",
       "    <DataTypes.FLOAT: ('FLOAT',)>)},\n",
       "  'PowerFactor': {'PowerFactorTOT': (<DataDirectionProduct.R: 'R'>,\n",
       "    <DataTypes.FLOAT: ('FLOAT',)>),\n",
       "   'PowerFactorL1': (<DataDirectionProduct.R: 'R'>,\n",
       "    <DataTypes.FLOAT: ('FLOAT',)>),\n",
       "   'PowerFactorL2': (<DataDirectionProduct.R: 'R'>,\n",
       "    <DataTypes.FLOAT: ('FLOAT',)>),\n",
       "   'PowerFactorL3': (<DataDirectionProduct.R: 'R'>,\n",
       "    <DataTypes.FLOAT: ('FLOAT',)>)}})"
      ]
     },
     "execution_count": 3,
     "metadata": {},
     "output_type": "execute_result"
    }
   ],
   "execution_count": 3
  },
  {
   "cell_type": "code",
   "source": [
    "device.configuration_parameter()[0].description"
   ],
   "metadata": {
    "collapsed": false
   },
   "id": "5bfc20380900c16c",
   "outputs": [],
   "execution_count": null
  },
  {
   "cell_type": "code",
   "source": [
    "clemap = SGrDevice()\n",
    "clemap \\\n",
    "    .update_xml_spec('./SGr_04_mmmm_dddd_CLEMAPEnergyMonitorEIV0.2.1.xml') \\\n",
    "    .update_config('./config_CLEMAPEnMon_ressource_default.ini') \\\n",
    "    .build()"
   ],
   "metadata": {
    "collapsed": false
   },
   "id": "4dc6314dfe7d19ee",
   "outputs": [],
   "execution_count": null
  },
  {
   "cell_type": "code",
   "source": [
    "await clemap.connect()\n"
   ],
   "metadata": {
    "collapsed": false
   },
   "id": "3a815a2b1a66448b",
   "outputs": [],
   "execution_count": null
  },
  {
   "cell_type": "code",
   "source": [
    "await clemap.read_data()"
   ],
   "metadata": {
    "collapsed": false
   },
   "id": "db98822a1ba8b865",
   "outputs": [],
   "execution_count": null
  },
  {
   "cell_type": "code",
   "source": [
    "clemap.describe()\n",
    "clemap.read_data()\n",
    "clemap.configuration_parameter()"
   ],
   "metadata": {
    "collapsed": false
   },
   "id": "d2af8223cc55c8e5",
   "outputs": [],
   "execution_count": null
  },
  {
   "cell_type": "code",
   "source": [],
   "metadata": {
    "collapsed": false
   },
   "id": "18115e9466dd82a5",
   "outputs": [],
   "execution_count": null
  }
 ],
 "metadata": {
  "kernelspec": {
   "display_name": "Python 3",
   "language": "python",
   "name": "python3"
  },
  "language_info": {
   "codemirror_mode": {
    "name": "ipython",
    "version": 2
   },
   "file_extension": ".py",
   "mimetype": "text/x-python",
   "name": "python",
   "nbconvert_exporter": "python",
   "pygments_lexer": "ipython2",
   "version": "2.7.6"
  }
 },
 "nbformat": 4,
 "nbformat_minor": 5
}
