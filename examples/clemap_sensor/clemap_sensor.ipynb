{
 "cells": [
  {
   "cell_type": "code",
   "outputs": [
    {
     "ename": "ParserError",
     "evalue": "Unknown property {http://www.smartgridready.com/ns/V0/}DataPointDescription:{http://www.smartgridready.com/ns/V0/}presenceLevel",
     "output_type": "error",
     "traceback": [
      "\u001B[0;31m---------------------------------------------------------------------------\u001B[0m",
      "\u001B[0;31mParserError\u001B[0m                               Traceback (most recent call last)",
      "Cell \u001B[0;32mIn[8], line 9\u001B[0m\n\u001B[1;32m      3\u001B[0m \u001B[38;5;28;01mimport\u001B[39;00m \u001B[38;5;21;01mserial\u001B[39;00m\n\u001B[1;32m      5\u001B[0m device \u001B[38;5;241m=\u001B[39m SGrDevice()\n\u001B[1;32m      6\u001B[0m \u001B[43mdevice\u001B[49m\u001B[43m \u001B[49m\u001B[43m\\\u001B[49m\n\u001B[1;32m      7\u001B[0m \u001B[43m \u001B[49m\u001B[38;5;241;43m.\u001B[39;49m\u001B[43mupdate_xml_spec\u001B[49m\u001B[43m(\u001B[49m\u001B[38;5;124;43m'\u001B[39;49m\u001B[38;5;124;43m./abb_terra_01.xml\u001B[39;49m\u001B[38;5;124;43m'\u001B[39;49m\u001B[43m)\u001B[49m\u001B[43m \u001B[49m\u001B[43m\\\u001B[49m\n\u001B[1;32m      8\u001B[0m \u001B[43m \u001B[49m\u001B[38;5;241;43m.\u001B[39;49m\u001B[43mupdate_config\u001B[49m\u001B[43m(\u001B[49m\u001B[38;5;124;43m'\u001B[39;49m\u001B[38;5;124;43m./config_CLEMAPEnMon_ressource_default.ini\u001B[39;49m\u001B[38;5;124;43m'\u001B[39;49m\u001B[43m)\u001B[49m\u001B[43m \u001B[49m\u001B[43m\\\u001B[49m\n\u001B[0;32m----> 9\u001B[0m \u001B[43m \u001B[49m\u001B[38;5;241;43m.\u001B[39;49m\u001B[43mbuild\u001B[49m\u001B[43m(\u001B[49m\u001B[43m)\u001B[49m\n\u001B[1;32m     12\u001B[0m device\u001B[38;5;241m.\u001B[39mdescribe()\n\u001B[1;32m     13\u001B[0m device\u001B[38;5;241m.\u001B[39mconfiguration_parameter()\n",
      "File \u001B[0;32m~/Documents/GitHub/SGrPython/sgr_library/sgr_device.py:46\u001B[0m, in \u001B[0;36mSGrDevice.build\u001B[0;34m(self)\u001B[0m\n\u001B[1;32m     45\u001B[0m \u001B[38;5;28;01mdef\u001B[39;00m \u001B[38;5;21mbuild\u001B[39m(\u001B[38;5;28mself\u001B[39m):\n\u001B[0;32m---> 46\u001B[0m     \u001B[38;5;28mself\u001B[39m\u001B[38;5;241m.\u001B[39m_interface \u001B[38;5;241m=\u001B[39m \u001B[38;5;28;43mself\u001B[39;49m\u001B[38;5;241;43m.\u001B[39;49m\u001B[43m_builder\u001B[49m\u001B[38;5;241;43m.\u001B[39;49m\u001B[43mbuild\u001B[49m\u001B[43m(\u001B[49m\u001B[43m)\u001B[49m\n",
      "File \u001B[0;32m~/Documents/GitHub/SGrPython/sgr_library/generic_interface.py:126\u001B[0m, in \u001B[0;36mGenericSGrDeviceBuilder.build\u001B[0;34m(self)\u001B[0m\n\u001B[1;32m    123\u001B[0m     \u001B[38;5;28;01mraise\u001B[39;00m \u001B[38;5;167;01mException\u001B[39;00m(\u001B[38;5;124mf\u001B[39m\u001B[38;5;124m'\u001B[39m\u001B[38;5;124munsupported loader configuration, \u001B[39m\u001B[38;5;132;01m{\u001B[39;00m\u001B[38;5;28mself\u001B[39m\u001B[38;5;241m.\u001B[39m_type\u001B[38;5;132;01m}\u001B[39;00m\u001B[38;5;124m'\u001B[39m)\n\u001B[1;32m    125\u001B[0m spec, config \u001B[38;5;241m=\u001B[39m \u001B[38;5;28mself\u001B[39m\u001B[38;5;241m.\u001B[39mreplace_variables()\n\u001B[0;32m--> 126\u001B[0m xml \u001B[38;5;241m=\u001B[39m \u001B[43mloaders\u001B[49m\u001B[43m[\u001B[49m\u001B[43mSGrConfiguration\u001B[49m\u001B[38;5;241;43m.\u001B[39;49m\u001B[43mSTRING\u001B[49m\u001B[43m]\u001B[49m\u001B[43m(\u001B[49m\u001B[43mspec\u001B[49m\u001B[43m)\u001B[49m\n\u001B[1;32m    127\u001B[0m protocol \u001B[38;5;241m=\u001B[39m resolve_protocol(xml)\n\u001B[1;32m    128\u001B[0m \u001B[38;5;28;01mreturn\u001B[39;00m device_builders[protocol](xml, config)\n",
      "File \u001B[0;32m~/Documents/GitHub/SGrPython/sgr_library/generic_interface.py:31\u001B[0m, in \u001B[0;36mstring_loader\u001B[0;34m(xml_str)\u001B[0m\n\u001B[1;32m     29\u001B[0m \u001B[38;5;28;01mdef\u001B[39;00m \u001B[38;5;21mstring_loader\u001B[39m(xml_str: \u001B[38;5;28mstr\u001B[39m) \u001B[38;5;241m-\u001B[39m\u001B[38;5;241m>\u001B[39m DeviceFrame:\n\u001B[1;32m     30\u001B[0m     parser \u001B[38;5;241m=\u001B[39m XmlParser(context\u001B[38;5;241m=\u001B[39mXmlContext())\n\u001B[0;32m---> 31\u001B[0m     \u001B[38;5;28;01mreturn\u001B[39;00m \u001B[43mparser\u001B[49m\u001B[38;5;241;43m.\u001B[39;49m\u001B[43mfrom_string\u001B[49m\u001B[43m(\u001B[49m\u001B[43mxml_str\u001B[49m\u001B[43m,\u001B[49m\u001B[43m \u001B[49m\u001B[43mDeviceFrame\u001B[49m\u001B[43m)\u001B[49m\n",
      "File \u001B[0;32m~/Documents/GitHub/SGrPython/SGrPython/lib/python3.11/site-packages/xsdata/formats/bindings.py:25\u001B[0m, in \u001B[0;36mAbstractParser.from_string\u001B[0;34m(self, source, clazz)\u001B[0m\n\u001B[1;32m     23\u001B[0m \u001B[38;5;28;01mdef\u001B[39;00m \u001B[38;5;21mfrom_string\u001B[39m(\u001B[38;5;28mself\u001B[39m, source: \u001B[38;5;28mstr\u001B[39m, clazz: Optional[Type[T]] \u001B[38;5;241m=\u001B[39m \u001B[38;5;28;01mNone\u001B[39;00m) \u001B[38;5;241m-\u001B[39m\u001B[38;5;241m>\u001B[39m T:\n\u001B[1;32m     24\u001B[0m \u001B[38;5;250m    \u001B[39m\u001B[38;5;124;03m\"\"\"Parse the input string and return the resulting object tree.\"\"\"\u001B[39;00m\n\u001B[0;32m---> 25\u001B[0m     \u001B[38;5;28;01mreturn\u001B[39;00m \u001B[38;5;28;43mself\u001B[39;49m\u001B[38;5;241;43m.\u001B[39;49m\u001B[43mfrom_bytes\u001B[49m\u001B[43m(\u001B[49m\u001B[43msource\u001B[49m\u001B[38;5;241;43m.\u001B[39;49m\u001B[43mencode\u001B[49m\u001B[43m(\u001B[49m\u001B[43m)\u001B[49m\u001B[43m,\u001B[49m\u001B[43m \u001B[49m\u001B[43mclazz\u001B[49m\u001B[43m)\u001B[49m\n",
      "File \u001B[0;32m~/Documents/GitHub/SGrPython/SGrPython/lib/python3.11/site-packages/xsdata/formats/bindings.py:29\u001B[0m, in \u001B[0;36mAbstractParser.from_bytes\u001B[0;34m(self, source, clazz)\u001B[0m\n\u001B[1;32m     27\u001B[0m \u001B[38;5;28;01mdef\u001B[39;00m \u001B[38;5;21mfrom_bytes\u001B[39m(\u001B[38;5;28mself\u001B[39m, source: \u001B[38;5;28mbytes\u001B[39m, clazz: Optional[Type[T]] \u001B[38;5;241m=\u001B[39m \u001B[38;5;28;01mNone\u001B[39;00m) \u001B[38;5;241m-\u001B[39m\u001B[38;5;241m>\u001B[39m T:\n\u001B[1;32m     28\u001B[0m \u001B[38;5;250m    \u001B[39m\u001B[38;5;124;03m\"\"\"Parse the input bytes array return the resulting object tree.\"\"\"\u001B[39;00m\n\u001B[0;32m---> 29\u001B[0m     \u001B[38;5;28;01mreturn\u001B[39;00m \u001B[38;5;28;43mself\u001B[39;49m\u001B[38;5;241;43m.\u001B[39;49m\u001B[43mparse\u001B[49m\u001B[43m(\u001B[49m\u001B[43mio\u001B[49m\u001B[38;5;241;43m.\u001B[39;49m\u001B[43mBytesIO\u001B[49m\u001B[43m(\u001B[49m\u001B[43msource\u001B[49m\u001B[43m)\u001B[49m\u001B[43m,\u001B[49m\u001B[43m \u001B[49m\u001B[43mclazz\u001B[49m\u001B[43m)\u001B[49m\n",
      "File \u001B[0;32m~/Documents/GitHub/SGrPython/SGrPython/lib/python3.11/site-packages/xsdata/formats/dataclass/parsers/bases.py:54\u001B[0m, in \u001B[0;36mNodeParser.parse\u001B[0;34m(self, source, clazz)\u001B[0m\n\u001B[1;32m     51\u001B[0m     warnings\u001B[38;5;241m.\u001B[39mfilterwarnings(\u001B[38;5;124m\"\u001B[39m\u001B[38;5;124merror\u001B[39m\u001B[38;5;124m\"\u001B[39m, category\u001B[38;5;241m=\u001B[39mConverterWarning)\n\u001B[1;32m     53\u001B[0m \u001B[38;5;28;01mtry\u001B[39;00m:\n\u001B[0;32m---> 54\u001B[0m     result \u001B[38;5;241m=\u001B[39m \u001B[43mhandler\u001B[49m\u001B[38;5;241;43m.\u001B[39;49m\u001B[43mparse\u001B[49m\u001B[43m(\u001B[49m\u001B[43msource\u001B[49m\u001B[43m)\u001B[49m\n\u001B[1;32m     55\u001B[0m \u001B[38;5;28;01mexcept\u001B[39;00m (ConverterWarning, \u001B[38;5;167;01mSyntaxError\u001B[39;00m) \u001B[38;5;28;01mas\u001B[39;00m e:\n\u001B[1;32m     56\u001B[0m     \u001B[38;5;28;01mraise\u001B[39;00m ParserError(e)\n",
      "File \u001B[0;32m~/Documents/GitHub/SGrPython/SGrPython/lib/python3.11/site-packages/xsdata/formats/dataclass/parsers/handlers/native.py:60\u001B[0m, in \u001B[0;36mXmlEventHandler.parse\u001B[0;34m(self, source)\u001B[0m\n\u001B[1;32m     57\u001B[0m \u001B[38;5;28;01melse\u001B[39;00m:\n\u001B[1;32m     58\u001B[0m     ctx \u001B[38;5;241m=\u001B[39m etree\u001B[38;5;241m.\u001B[39miterparse(source, EVENTS)  \u001B[38;5;66;03m# nosec\u001B[39;00m\n\u001B[0;32m---> 60\u001B[0m \u001B[38;5;28;01mreturn\u001B[39;00m \u001B[38;5;28;43mself\u001B[39;49m\u001B[38;5;241;43m.\u001B[39;49m\u001B[43mprocess_context\u001B[49m\u001B[43m(\u001B[49m\u001B[43mctx\u001B[49m\u001B[43m)\u001B[49m\n",
      "File \u001B[0;32m~/Documents/GitHub/SGrPython/SGrPython/lib/python3.11/site-packages/xsdata/formats/dataclass/parsers/handlers/native.py:67\u001B[0m, in \u001B[0;36mXmlEventHandler.process_context\u001B[0;34m(self, context)\u001B[0m\n\u001B[1;32m     65\u001B[0m \u001B[38;5;28;01mfor\u001B[39;00m event, element \u001B[38;5;129;01min\u001B[39;00m context:\n\u001B[1;32m     66\u001B[0m     \u001B[38;5;28;01mif\u001B[39;00m event \u001B[38;5;241m==\u001B[39m EventType\u001B[38;5;241m.\u001B[39mSTART:\n\u001B[0;32m---> 67\u001B[0m         \u001B[38;5;28;43mself\u001B[39;49m\u001B[38;5;241;43m.\u001B[39;49m\u001B[43mparser\u001B[49m\u001B[38;5;241;43m.\u001B[39;49m\u001B[43mstart\u001B[49m\u001B[43m(\u001B[49m\n\u001B[1;32m     68\u001B[0m \u001B[43m            \u001B[49m\u001B[38;5;28;43mself\u001B[39;49m\u001B[38;5;241;43m.\u001B[39;49m\u001B[43mclazz\u001B[49m\u001B[43m,\u001B[49m\n\u001B[1;32m     69\u001B[0m \u001B[43m            \u001B[49m\u001B[38;5;28;43mself\u001B[39;49m\u001B[38;5;241;43m.\u001B[39;49m\u001B[43mqueue\u001B[49m\u001B[43m,\u001B[49m\n\u001B[1;32m     70\u001B[0m \u001B[43m            \u001B[49m\u001B[38;5;28;43mself\u001B[39;49m\u001B[38;5;241;43m.\u001B[39;49m\u001B[43mobjects\u001B[49m\u001B[43m,\u001B[49m\n\u001B[1;32m     71\u001B[0m \u001B[43m            \u001B[49m\u001B[43melement\u001B[49m\u001B[38;5;241;43m.\u001B[39;49m\u001B[43mtag\u001B[49m\u001B[43m,\u001B[49m\n\u001B[1;32m     72\u001B[0m \u001B[43m            \u001B[49m\u001B[43melement\u001B[49m\u001B[38;5;241;43m.\u001B[39;49m\u001B[43mattrib\u001B[49m\u001B[43m,\u001B[49m\n\u001B[1;32m     73\u001B[0m \u001B[43m            \u001B[49m\u001B[38;5;28;43mself\u001B[39;49m\u001B[38;5;241;43m.\u001B[39;49m\u001B[43mmerge_parent_namespaces\u001B[49m\u001B[43m(\u001B[49m\u001B[43mns_map\u001B[49m\u001B[43m)\u001B[49m\u001B[43m,\u001B[49m\n\u001B[1;32m     74\u001B[0m \u001B[43m        \u001B[49m\u001B[43m)\u001B[49m\n\u001B[1;32m     75\u001B[0m         ns_map \u001B[38;5;241m=\u001B[39m {}\n\u001B[1;32m     76\u001B[0m     \u001B[38;5;28;01melif\u001B[39;00m event \u001B[38;5;241m==\u001B[39m EventType\u001B[38;5;241m.\u001B[39mEND:\n",
      "File \u001B[0;32m~/Documents/GitHub/SGrPython/SGrPython/lib/python3.11/site-packages/xsdata/formats/dataclass/parsers/bases.py:93\u001B[0m, in \u001B[0;36mNodeParser.start\u001B[0;34m(self, clazz, queue, objects, qname, attrs, ns_map)\u001B[0m\n\u001B[1;32m     91\u001B[0m         child \u001B[38;5;241m=\u001B[39m cast(XmlNode, WrapperNode(parent\u001B[38;5;241m=\u001B[39mitem))\n\u001B[1;32m     92\u001B[0m     \u001B[38;5;28;01melse\u001B[39;00m:\n\u001B[0;32m---> 93\u001B[0m         child \u001B[38;5;241m=\u001B[39m \u001B[43mitem\u001B[49m\u001B[38;5;241;43m.\u001B[39;49m\u001B[43mchild\u001B[49m\u001B[43m(\u001B[49m\u001B[43mqname\u001B[49m\u001B[43m,\u001B[49m\u001B[43m \u001B[49m\u001B[43mattrs\u001B[49m\u001B[43m,\u001B[49m\u001B[43m \u001B[49m\u001B[43mns_map\u001B[49m\u001B[43m,\u001B[49m\u001B[43m \u001B[49m\u001B[38;5;28;43mlen\u001B[39;49m\u001B[43m(\u001B[49m\u001B[43mobjects\u001B[49m\u001B[43m)\u001B[49m\u001B[43m)\u001B[49m\n\u001B[1;32m     94\u001B[0m \u001B[38;5;28;01mexcept\u001B[39;00m \u001B[38;5;167;01mIndexError\u001B[39;00m:\n\u001B[1;32m     95\u001B[0m     xsi_type \u001B[38;5;241m=\u001B[39m ParserUtils\u001B[38;5;241m.\u001B[39mxsi_type(attrs, ns_map)\n",
      "File \u001B[0;32m~/Documents/GitHub/SGrPython/SGrPython/lib/python3.11/site-packages/xsdata/formats/dataclass/parsers/nodes/element.py:349\u001B[0m, in \u001B[0;36mElementNode.child\u001B[0;34m(self, qname, attrs, ns_map, position)\u001B[0m\n\u001B[1;32m    346\u001B[0m             \u001B[38;5;28;01mreturn\u001B[39;00m node\n\u001B[1;32m    348\u001B[0m \u001B[38;5;28;01mif\u001B[39;00m \u001B[38;5;28mself\u001B[39m\u001B[38;5;241m.\u001B[39mconfig\u001B[38;5;241m.\u001B[39mfail_on_unknown_properties:\n\u001B[0;32m--> 349\u001B[0m     \u001B[38;5;28;01mraise\u001B[39;00m ParserError(\u001B[38;5;124mf\u001B[39m\u001B[38;5;124m\"\u001B[39m\u001B[38;5;124mUnknown property \u001B[39m\u001B[38;5;132;01m{\u001B[39;00m\u001B[38;5;28mself\u001B[39m\u001B[38;5;241m.\u001B[39mmeta\u001B[38;5;241m.\u001B[39mqname\u001B[38;5;132;01m}\u001B[39;00m\u001B[38;5;124m:\u001B[39m\u001B[38;5;132;01m{\u001B[39;00mqname\u001B[38;5;132;01m}\u001B[39;00m\u001B[38;5;124m\"\u001B[39m)\n\u001B[1;32m    351\u001B[0m \u001B[38;5;28;01mreturn\u001B[39;00m nodes\u001B[38;5;241m.\u001B[39mSkipNode()\n",
      "\u001B[0;31mParserError\u001B[0m: Unknown property {http://www.smartgridready.com/ns/V0/}DataPointDescription:{http://www.smartgridready.com/ns/V0/}presenceLevel"
     ]
    }
   ],
   "source": [
    "from sgr_library import SGrDevice\n",
    "\n",
    "import serial\n",
    "\n",
    "device = SGrDevice()\n",
    "device \\\n",
    " .update_xml_spec('./abb_terra_01.xml') \\\n",
    " .update_config('./config_CLEMAPEnMon_ressource_default.ini') \\\n",
    " .build()\n",
    "\n",
    "\n",
    "device.describe()\n",
    "device.configuration_parameter()\n",
    "await device.connect()"
   ],
   "metadata": {
    "collapsed": false,
    "ExecuteTime": {
     "end_time": "2024-03-22T19:35:37.882831Z",
     "start_time": "2024-03-22T19:35:37.845368Z"
    }
   },
   "id": "initial_id",
   "execution_count": 8
  },
  {
   "cell_type": "code",
   "outputs": [
    {
     "ename": "AttributeError",
     "evalue": "'NoneType' object has no attribute 'get_function_profiles'",
     "output_type": "error",
     "traceback": [
      "\u001B[0;31m---------------------------------------------------------------------------\u001B[0m",
      "\u001B[0;31mAttributeError\u001B[0m                            Traceback (most recent call last)",
      "Cell \u001B[0;32mIn[5], line 1\u001B[0m\n\u001B[0;32m----> 1\u001B[0m \u001B[43mdevice\u001B[49m\u001B[38;5;241;43m.\u001B[39;49m\u001B[43mdescribe\u001B[49m\u001B[43m(\u001B[49m\u001B[43m)\u001B[49m\n\u001B[1;32m      2\u001B[0m \u001B[38;5;28;01mawait\u001B[39;00m device\u001B[38;5;241m.\u001B[39mread_data()\n",
      "File \u001B[0;32m~/Documents/GitHub/SGrPython/sgr_library/api/device_api.py:61\u001B[0m, in \u001B[0;36mBaseSGrInterface.describe\u001B[0;34m(self)\u001B[0m\n\u001B[1;32m     58\u001B[0m \u001B[38;5;28;01mdef\u001B[39;00m \u001B[38;5;21mdescribe\u001B[39m(\u001B[38;5;28mself\u001B[39m) \u001B[38;5;241m-\u001B[39m\u001B[38;5;241m>\u001B[39m \u001B[38;5;28mtuple\u001B[39m[\u001B[38;5;28mstr\u001B[39m, \u001B[38;5;28mdict\u001B[39m[\u001B[38;5;28mstr\u001B[39m, \u001B[38;5;28mdict\u001B[39m[\u001B[38;5;28mstr\u001B[39m, \u001B[38;5;28mtuple\u001B[39m[DataDirectionProduct, DataTypes]]]]:\n\u001B[1;32m     60\u001B[0m     data \u001B[38;5;241m=\u001B[39m {}\n\u001B[0;32m---> 61\u001B[0m     \u001B[38;5;28;01mfor\u001B[39;00m fp \u001B[38;5;129;01min\u001B[39;00m \u001B[38;5;28;43mself\u001B[39;49m\u001B[38;5;241;43m.\u001B[39;49m\u001B[43mget_function_profiles\u001B[49m\u001B[43m(\u001B[49m\u001B[43m)\u001B[49m\u001B[38;5;241m.\u001B[39mvalues():\n\u001B[1;32m     62\u001B[0m         key, dps \u001B[38;5;241m=\u001B[39m fp\u001B[38;5;241m.\u001B[39mdescribe()\n\u001B[1;32m     63\u001B[0m         data[key] \u001B[38;5;241m=\u001B[39m dps\n",
      "File \u001B[0;32m~/Documents/GitHub/SGrPython/sgr_library/sgr_device.py:43\u001B[0m, in \u001B[0;36mSGrDevice.get_function_profiles\u001B[0;34m(self)\u001B[0m\n\u001B[1;32m     42\u001B[0m \u001B[38;5;28;01mdef\u001B[39;00m \u001B[38;5;21mget_function_profiles\u001B[39m(\u001B[38;5;28mself\u001B[39m) \u001B[38;5;241m-\u001B[39m\u001B[38;5;241m>\u001B[39m \u001B[38;5;28mdict\u001B[39m[\u001B[38;5;28mstr\u001B[39m, FunctionProfile]:\n\u001B[0;32m---> 43\u001B[0m     \u001B[38;5;28;01mreturn\u001B[39;00m \u001B[38;5;28;43mself\u001B[39;49m\u001B[38;5;241;43m.\u001B[39;49m\u001B[43m_interface\u001B[49m\u001B[38;5;241;43m.\u001B[39;49m\u001B[43mget_function_profiles\u001B[49m()\n",
      "\u001B[0;31mAttributeError\u001B[0m: 'NoneType' object has no attribute 'get_function_profiles'"
     ]
    }
   ],
   "source": [
    "device.describe()\n",
    "await device.read_data()"
   ],
   "metadata": {
    "collapsed": false,
    "ExecuteTime": {
     "end_time": "2024-03-22T19:30:18.083072Z",
     "start_time": "2024-03-22T19:30:18.065145Z"
    }
   },
   "id": "91230dc6ff62862a",
   "execution_count": 5
  },
  {
   "cell_type": "code",
   "outputs": [
    {
     "ename": "AttributeError",
     "evalue": "'NoneType' object has no attribute 'get_function_profiles'",
     "output_type": "error",
     "traceback": [
      "\u001B[0;31m---------------------------------------------------------------------------\u001B[0m",
      "\u001B[0;31mAttributeError\u001B[0m                            Traceback (most recent call last)",
      "Cell \u001B[0;32mIn[3], line 1\u001B[0m\n\u001B[0;32m----> 1\u001B[0m \u001B[38;5;28;01mawait\u001B[39;00m \u001B[43mdevice\u001B[49m\u001B[38;5;241;43m.\u001B[39;49m\u001B[43mget_data_point\u001B[49m\u001B[43m(\u001B[49m\u001B[43m(\u001B[49m\u001B[38;5;124;43m'\u001B[39;49m\u001B[38;5;124;43mFrequency\u001B[39;49m\u001B[38;5;124;43m'\u001B[39;49m\u001B[43m,\u001B[49m\u001B[43m \u001B[49m\u001B[38;5;124;43m'\u001B[39;49m\u001B[38;5;124;43mFrequency\u001B[39;49m\u001B[38;5;124;43m'\u001B[39;49m\u001B[43m)\u001B[49m\u001B[43m)\u001B[49m\u001B[38;5;241m.\u001B[39mread()\n",
      "File \u001B[0;32m~/Documents/GitHub/SGrPython/sgr_library/api/device_api.py:44\u001B[0m, in \u001B[0;36mBaseSGrInterface.get_data_point\u001B[0;34m(self, dp)\u001B[0m\n\u001B[1;32m     43\u001B[0m \u001B[38;5;28;01mdef\u001B[39;00m \u001B[38;5;21mget_data_point\u001B[39m(\u001B[38;5;28mself\u001B[39m, dp: \u001B[38;5;28mtuple\u001B[39m[\u001B[38;5;28mstr\u001B[39m, \u001B[38;5;28mstr\u001B[39m]) \u001B[38;5;241m-\u001B[39m\u001B[38;5;241m>\u001B[39m DataPoint:\n\u001B[0;32m---> 44\u001B[0m     \u001B[38;5;28;01mreturn\u001B[39;00m \u001B[38;5;28;43mself\u001B[39;49m\u001B[38;5;241;43m.\u001B[39;49m\u001B[43mget_function_profile\u001B[49m\u001B[43m(\u001B[49m\u001B[43mdp\u001B[49m\u001B[43m[\u001B[49m\u001B[38;5;241;43m0\u001B[39;49m\u001B[43m]\u001B[49m\u001B[43m)\u001B[49m\u001B[38;5;241m.\u001B[39mget_data_point(dp[\u001B[38;5;241m1\u001B[39m])\n",
      "File \u001B[0;32m~/Documents/GitHub/SGrPython/sgr_library/api/device_api.py:41\u001B[0m, in \u001B[0;36mBaseSGrInterface.get_function_profile\u001B[0;34m(self, function_profile_name)\u001B[0m\n\u001B[1;32m     40\u001B[0m \u001B[38;5;28;01mdef\u001B[39;00m \u001B[38;5;21mget_function_profile\u001B[39m(\u001B[38;5;28mself\u001B[39m, function_profile_name: \u001B[38;5;28mstr\u001B[39m) \u001B[38;5;241m-\u001B[39m\u001B[38;5;241m>\u001B[39m FunctionProfile:\n\u001B[0;32m---> 41\u001B[0m     \u001B[38;5;28;01mreturn\u001B[39;00m \u001B[38;5;28;43mself\u001B[39;49m\u001B[38;5;241;43m.\u001B[39;49m\u001B[43mget_function_profiles\u001B[49m\u001B[43m(\u001B[49m\u001B[43m)\u001B[49m[function_profile_name]\n",
      "File \u001B[0;32m~/Documents/GitHub/SGrPython/sgr_library/sgr_device.py:43\u001B[0m, in \u001B[0;36mSGrDevice.get_function_profiles\u001B[0;34m(self)\u001B[0m\n\u001B[1;32m     42\u001B[0m \u001B[38;5;28;01mdef\u001B[39;00m \u001B[38;5;21mget_function_profiles\u001B[39m(\u001B[38;5;28mself\u001B[39m) \u001B[38;5;241m-\u001B[39m\u001B[38;5;241m>\u001B[39m \u001B[38;5;28mdict\u001B[39m[\u001B[38;5;28mstr\u001B[39m, FunctionProfile]:\n\u001B[0;32m---> 43\u001B[0m     \u001B[38;5;28;01mreturn\u001B[39;00m \u001B[38;5;28;43mself\u001B[39;49m\u001B[38;5;241;43m.\u001B[39;49m\u001B[43m_interface\u001B[49m\u001B[38;5;241;43m.\u001B[39;49m\u001B[43mget_function_profiles\u001B[49m()\n",
      "\u001B[0;31mAttributeError\u001B[0m: 'NoneType' object has no attribute 'get_function_profiles'"
     ]
    }
   ],
   "source": [
    "await device.get_data_point(('Frequency', 'Frequency')).read()\n",
    "\n"
   ],
   "metadata": {
    "collapsed": false,
    "ExecuteTime": {
     "end_time": "2024-03-22T19:28:28.927325Z",
     "start_time": "2024-03-22T19:28:28.903036Z"
    }
   },
   "id": "e574c102f8c88c52",
   "execution_count": 3
  },
  {
   "cell_type": "code",
   "outputs": [],
   "source": [],
   "metadata": {
    "collapsed": false
   },
   "id": "4dc6314dfe7d19ee"
  }
 ],
 "metadata": {
  "kernelspec": {
   "display_name": "Python 3",
   "language": "python",
   "name": "python3"
  },
  "language_info": {
   "codemirror_mode": {
    "name": "ipython",
    "version": 2
   },
   "file_extension": ".py",
   "mimetype": "text/x-python",
   "name": "python",
   "nbconvert_exporter": "python",
   "pygments_lexer": "ipython2",
   "version": "2.7.6"
  }
 },
 "nbformat": 4,
 "nbformat_minor": 5
}
