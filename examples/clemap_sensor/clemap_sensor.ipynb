{
 "cells": [
  {
   "cell_type": "code",
   "source": [
    "import os\n",
    "import logging\n",
    "\n",
    "logger = logging.getLogger()\n",
    "logger.setLevel(logging.ERROR)\n",
    "os.environ['SGR_RTU_PORT'] = '/dev/tty.usbmodem56D11292701'\n",
    "\n",
    "from sgr_library.device_builder import DeviceBuilder\n",
    "\n",
    "builder = DeviceBuilder()\n",
    "interface_file = './SGr_04_mmmm_dddd_CLEMAPEnergyMonitorEIV0.2.1.xml'\n",
    "config_file = './config_CLEMAPEnMon_ressource_default.ini'\n",
    "device = (\n",
    "    builder.eid_path(interface_file).properties_path(config_file).build()\n",
    ")\n",
    "await device.connect_async()\n",
    "#\n",
    "vals = await device.get_value_async()\n",
    "vals\n",
    "# device = SGrDevice()\n",
    "# device \\\n",
    "#     .update_xml_spec('./lehman.xml') \\\n",
    "#     .update_config('./config_CLEMAPEnMon_ressource_default.ini') \\\n",
    "#     .build()\n",
    "#\n",
    "#\n",
    "#\n",
    "# await device.connect()\n",
    "# device.describe()\n",
    "# # await device.connect()\n",
    "# await device.read_data()\n",
    "\n",
    "#find me here /dev/tty.usbmodem56D11292701 E 19200\n"
   ],
   "metadata": {
    "collapsed": false,
    "ExecuteTime": {
     "end_time": "2024-09-05T19:24:09.077080Z",
     "start_time": "2024-09-05T19:24:07.237488Z"
    }
   },
   "id": "6b8baa4d5ef597fd",
   "outputs": [
    {
     "data": {
      "text/plain": [
       "{('ActivePowerAC', 'ActivePowerACtot'): -29.049999999999997,\n",
       " ('ActivePowerAC', 'ActivePowerACL1'): -29.049999999999997,\n",
       " ('ActivePowerAC', 'ActivePowerACL2'): -29.049999999999997,\n",
       " ('ActivePowerAC', 'ActivePowerACL3'): -29.049999999999997}"
      ]
     },
     "execution_count": 1,
     "metadata": {},
     "output_type": "execute_result"
    }
   ],
   "execution_count": 1
  },
  {
   "cell_type": "code",
   "source": [
    "# await device.get_function_profile(\"ActivePowerAC\").get_data_point(\"ActivePowerACtot\").read()\n",
    "device.get_function_profiles()\n",
    "device.describe()"
   ],
   "metadata": {
    "collapsed": false,
    "ExecuteTime": {
     "end_time": "2024-09-05T19:21:14.920917Z",
     "start_time": "2024-09-05T19:21:14.916156Z"
    }
   },
   "id": "b8ba0b7a98f60e9e",
   "outputs": [
    {
     "data": {
      "text/plain": [
       "('CLEMAP Energy Monitor',\n",
       " {'ActivePowerAC': {'ActivePowerACtot': (<DataDirectionProduct.R: 'R'>,\n",
       "    <DataTypes.FLOAT: 'FLOAT'>),\n",
       "   'ActivePowerACL1': (<DataDirectionProduct.R: 'R'>,\n",
       "    <DataTypes.FLOAT: 'FLOAT'>),\n",
       "   'ActivePowerACL2': (<DataDirectionProduct.R: 'R'>,\n",
       "    <DataTypes.FLOAT: 'FLOAT'>),\n",
       "   'ActivePowerACL3': (<DataDirectionProduct.R: 'R'>,\n",
       "    <DataTypes.FLOAT: 'FLOAT'>)}})"
      ]
     },
     "execution_count": 2,
     "metadata": {},
     "output_type": "execute_result"
    }
   ],
   "execution_count": 2
  },
  {
   "cell_type": "code",
   "source": [
    "device.configuration_parameter()[0].description"
   ],
   "metadata": {
    "collapsed": false
   },
   "id": "5bfc20380900c16c",
   "outputs": [],
   "execution_count": null
  },
  {
   "cell_type": "code",
   "source": "",
   "metadata": {
    "collapsed": false
   },
   "id": "4dc6314dfe7d19ee",
   "outputs": [],
   "execution_count": null
  },
  {
   "cell_type": "code",
   "source": "",
   "metadata": {
    "collapsed": false
   },
   "id": "3a815a2b1a66448b",
   "outputs": [],
   "execution_count": null
  },
  {
   "cell_type": "code",
   "source": "",
   "metadata": {
    "collapsed": false
   },
   "id": "db98822a1ba8b865",
   "outputs": [],
   "execution_count": null
  },
  {
   "cell_type": "code",
   "source": "",
   "metadata": {
    "collapsed": false
   },
   "id": "d2af8223cc55c8e5",
   "outputs": [],
   "execution_count": null
  },
  {
   "cell_type": "code",
   "source": [],
   "metadata": {
    "collapsed": false
   },
   "id": "18115e9466dd82a5",
   "outputs": [],
   "execution_count": null
  }
 ],
 "metadata": {
  "kernelspec": {
   "display_name": "Python 3",
   "language": "python",
   "name": "python3"
  },
  "language_info": {
   "codemirror_mode": {
    "name": "ipython",
    "version": 2
   },
   "file_extension": ".py",
   "mimetype": "text/x-python",
   "name": "python",
   "nbconvert_exporter": "python",
   "pygments_lexer": "ipython2",
   "version": "2.7.6"
  }
 },
 "nbformat": 4,
 "nbformat_minor": 5
}
