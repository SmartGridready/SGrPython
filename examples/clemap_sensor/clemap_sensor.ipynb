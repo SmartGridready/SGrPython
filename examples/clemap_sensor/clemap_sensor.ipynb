{
 "cells": [
  {
   "cell_type": "code",
   "execution_count": 1,
   "id": "initial_id",
   "metadata": {
    "collapsed": true,
    "ExecuteTime": {
     "end_time": "2024-03-01T19:48:12.441528Z",
     "start_time": "2024-03-01T19:48:10.639259Z"
    }
   },
   "outputs": [
    {
     "data": {
      "text/plain": "('CLEMAP Energy Monitor',\n {'ActivePowerAC': {'ActivePowerACtot': (<DataDirectionProduct.R: 'R'>,\n    <DataTypes.FLOAT: ('FLOAT',)>),\n   'ActivePowerACL1': (<DataDirectionProduct.R: 'R'>,\n    <DataTypes.FLOAT: ('FLOAT',)>),\n   'ActivePowerACL2': (<DataDirectionProduct.R: 'R'>,\n    <DataTypes.FLOAT: ('FLOAT',)>),\n   'ActivePowerACL3': (<DataDirectionProduct.R: 'R'>,\n    <DataTypes.FLOAT: ('FLOAT',)>)}})"
     },
     "execution_count": 1,
     "metadata": {},
     "output_type": "execute_result"
    }
   ],
   "source": [
    "from sgr_library import SGrDevice\n",
    "\n",
    "device = SGrDevice()\n",
    "device \\\n",
    " .update_xml_spec('./SGr_04_mmmm_dddd_CLEMAPEnergyMonitorEIV0.2.1.xml') \\\n",
    " .update_config('./config_CLEMAPEnMon_ressource_default.ini') \\\n",
    " .build()\n",
    "\n",
    "await device.connect()\n",
    "\n",
    "device.describe()\n"
   ]
  },
  {
   "cell_type": "code",
   "outputs": [
    {
     "name": "stdout",
     "output_type": "stream",
     "text": [
      "{('ActivePowerAC', 'ActivePowerACtot'): -52.365, ('ActivePowerAC', 'ActivePowerACL1'): 6.854, ('ActivePowerAC', 'ActivePowerACL2'): -59.219, ('ActivePowerAC', 'ActivePowerACL3'): 0}\n"
     ]
    },
    {
     "ename": "KeyError",
     "evalue": "'PowerFactor'",
     "output_type": "error",
     "traceback": [
      "\u001B[0;31m---------------------------------------------------------------------------\u001B[0m",
      "\u001B[0;31mKeyError\u001B[0m                                  Traceback (most recent call last)",
      "Cell \u001B[0;32mIn[2], line 4\u001B[0m\n\u001B[1;32m      1\u001B[0m device_data \u001B[38;5;241m=\u001B[39m \u001B[38;5;28;01mawait\u001B[39;00m device\u001B[38;5;241m.\u001B[39mread_data()\n\u001B[1;32m      2\u001B[0m \u001B[38;5;28mprint\u001B[39m(device_data)\n\u001B[0;32m----> 4\u001B[0m fp \u001B[38;5;241m=\u001B[39m \u001B[43mdevice\u001B[49m\u001B[38;5;241;43m.\u001B[39;49m\u001B[43mget_function_profile\u001B[49m\u001B[43m(\u001B[49m\u001B[38;5;124;43m\"\u001B[39;49m\u001B[38;5;124;43mPowerFactor\u001B[39;49m\u001B[38;5;124;43m\"\u001B[39;49m\u001B[43m)\u001B[49m\n\u001B[1;32m      5\u001B[0m fp_data \u001B[38;5;241m=\u001B[39m \u001B[38;5;28;01mawait\u001B[39;00m fp\u001B[38;5;241m.\u001B[39mread()\n\u001B[1;32m      6\u001B[0m \u001B[38;5;28mprint\u001B[39m(fp_data)\n",
      "File \u001B[0;32m~/Documents/GitHub/SGrPython/sgr_library/api/device_api.py:41\u001B[0m, in \u001B[0;36mBaseSGrInterface.get_function_profile\u001B[0;34m(self, function_profile_name)\u001B[0m\n\u001B[1;32m     40\u001B[0m \u001B[38;5;28;01mdef\u001B[39;00m \u001B[38;5;21mget_function_profile\u001B[39m(\u001B[38;5;28mself\u001B[39m, function_profile_name: \u001B[38;5;28mstr\u001B[39m) \u001B[38;5;241m-\u001B[39m\u001B[38;5;241m>\u001B[39m FunctionProfile:\n\u001B[0;32m---> 41\u001B[0m     \u001B[38;5;28;01mreturn\u001B[39;00m \u001B[38;5;28;43mself\u001B[39;49m\u001B[38;5;241;43m.\u001B[39;49m\u001B[43mget_function_profiles\u001B[49m\u001B[43m(\u001B[49m\u001B[43m)\u001B[49m\u001B[43m[\u001B[49m\u001B[43mfunction_profile_name\u001B[49m\u001B[43m]\u001B[49m\n",
      "\u001B[0;31mKeyError\u001B[0m: 'PowerFactor'"
     ]
    }
   ],
   "source": [
    "device_data = await device.read_data()\n",
    "print(device_data)\n",
    "\n",
    "fp = device.get_function_profile(\"PowerFactor\")\n",
    "fp_data = await fp.read()\n",
    "print(fp_data)\n",
    "\n",
    "\n",
    "dp = fp.get_data_point(\"PowerFactorL3\")\n",
    "dp_data = await dp.read()\n",
    "print(dp_data)\n",
    "\n",
    "\n"
   ],
   "metadata": {
    "collapsed": false,
    "ExecuteTime": {
     "end_time": "2024-03-01T19:41:55.964813Z",
     "start_time": "2024-03-01T19:41:55.794230Z"
    }
   },
   "id": "e574c102f8c88c52",
   "execution_count": 2
  },
  {
   "cell_type": "code",
   "outputs": [
    {
     "ename": "KeyError",
     "evalue": "'PowerFactor'",
     "output_type": "error",
     "traceback": [
      "\u001B[0;31m---------------------------------------------------------------------------\u001B[0m",
      "\u001B[0;31mKeyError\u001B[0m                                  Traceback (most recent call last)",
      "Cell \u001B[0;32mIn[3], line 1\u001B[0m\n\u001B[0;32m----> 1\u001B[0m fp \u001B[38;5;241m=\u001B[39m \u001B[43mdevice\u001B[49m\u001B[38;5;241;43m.\u001B[39;49m\u001B[43mget_function_profile\u001B[49m\u001B[43m(\u001B[49m\u001B[38;5;124;43m\"\u001B[39;49m\u001B[38;5;124;43mPowerFactor\u001B[39;49m\u001B[38;5;124;43m\"\u001B[39;49m\u001B[43m)\u001B[49m\n\u001B[1;32m      2\u001B[0m \u001B[38;5;28;01mawait\u001B[39;00m fp\u001B[38;5;241m.\u001B[39mread()\n",
      "File \u001B[0;32m~/Documents/GitHub/SGrPython/sgr_library/api/device_api.py:41\u001B[0m, in \u001B[0;36mBaseSGrInterface.get_function_profile\u001B[0;34m(self, function_profile_name)\u001B[0m\n\u001B[1;32m     40\u001B[0m \u001B[38;5;28;01mdef\u001B[39;00m \u001B[38;5;21mget_function_profile\u001B[39m(\u001B[38;5;28mself\u001B[39m, function_profile_name: \u001B[38;5;28mstr\u001B[39m) \u001B[38;5;241m-\u001B[39m\u001B[38;5;241m>\u001B[39m FunctionProfile:\n\u001B[0;32m---> 41\u001B[0m     \u001B[38;5;28;01mreturn\u001B[39;00m \u001B[38;5;28;43mself\u001B[39;49m\u001B[38;5;241;43m.\u001B[39;49m\u001B[43mget_function_profiles\u001B[49m\u001B[43m(\u001B[49m\u001B[43m)\u001B[49m\u001B[43m[\u001B[49m\u001B[43mfunction_profile_name\u001B[49m\u001B[43m]\u001B[49m\n",
      "\u001B[0;31mKeyError\u001B[0m: 'PowerFactor'"
     ]
    }
   ],
   "source": [
    "fp = device.get_function_profile(\"PowerFactor\")\n",
    "await fp.read()"
   ],
   "metadata": {
    "collapsed": false,
    "ExecuteTime": {
     "end_time": "2024-03-01T19:42:07.856496Z",
     "start_time": "2024-03-01T19:42:07.812112Z"
    }
   },
   "id": "ff1be864ba759067",
   "execution_count": 3
  },
  {
   "cell_type": "code",
   "outputs": [
    {
     "data": {
      "text/plain": "32.903999999999996"
     },
     "execution_count": 5,
     "metadata": {},
     "output_type": "execute_result"
    }
   ],
   "source": [
    "dp = fp.get_data_point(\"PowerFactorTOT\")"
   ],
   "metadata": {
    "collapsed": false,
    "ExecuteTime": {
     "end_time": "2024-02-13T19:13:31.770222Z",
     "start_time": "2024-02-13T19:13:31.597170Z"
    }
   },
   "id": "74d6a9b0e1deaaf8",
   "execution_count": 5
  },
  {
   "cell_type": "code",
   "outputs": [
    {
     "data": {
      "text/plain": "{('ActivePowerAC', 'ActivePowerACtot'): 4.154,\n ('ActivePowerAC', 'ActivePowerACL1'): 6.555,\n ('ActivePowerAC', 'ActivePowerACL2'): -2.401,\n ('ActivePowerAC', 'ActivePowerACL3'): 0}"
     },
     "execution_count": 2,
     "metadata": {},
     "output_type": "execute_result"
    }
   ],
   "source": [
    "await device.read_data()"
   ],
   "metadata": {
    "collapsed": false,
    "ExecuteTime": {
     "end_time": "2024-03-01T19:48:16.323292Z",
     "start_time": "2024-03-01T19:48:16.263432Z"
    }
   },
   "id": "f2b7972e1a54e95c",
   "execution_count": 2
  },
  {
   "cell_type": "code",
   "outputs": [
    {
     "data": {
      "text/plain": "[LegibleDescription(text_element='\\n                    \\n                    Identification of the sensor.</br>\\n                    This value is numeric.\\n                    \\n                ', language=<Language.EN: 'en'>, uri=None),\n LegibleDescription(text_element='\\n                    \\n                    Identifikation des Sensors. </br>\\n                    Dieser Wert ist numerisch.\\n                    \\n                ', language=<Language.DE: 'de'>, uri=None)]"
     },
     "execution_count": 6,
     "metadata": {},
     "output_type": "execute_result"
    }
   ],
   "source": [
    "device.configuration_parameter()[0].description"
   ],
   "metadata": {
    "collapsed": false,
    "ExecuteTime": {
     "end_time": "2024-03-02T16:52:10.929929Z",
     "start_time": "2024-03-02T16:52:10.925526Z"
    }
   },
   "id": "6e23d35c6dc4a852",
   "execution_count": 6
  },
  {
   "cell_type": "code",
   "outputs": [],
   "source": [],
   "metadata": {
    "collapsed": false,
    "ExecuteTime": {
     "start_time": "2024-02-13T19:13:31.648003Z"
    }
   },
   "id": "b491e99263055ba",
   "execution_count": null
  }
 ],
 "metadata": {
  "kernelspec": {
   "display_name": "Python 3",
   "language": "python",
   "name": "python3"
  },
  "language_info": {
   "codemirror_mode": {
    "name": "ipython",
    "version": 2
   },
   "file_extension": ".py",
   "mimetype": "text/x-python",
   "name": "python",
   "nbconvert_exporter": "python",
   "pygments_lexer": "ipython2",
   "version": "2.7.6"
  }
 },
 "nbformat": 4,
 "nbformat_minor": 5
}
