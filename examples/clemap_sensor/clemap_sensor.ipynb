{
 "cells": [
  {
   "cell_type": "code",
   "source": [
    "from sgr_library import SGrDevice\n",
    "import os\n",
    "import logging\n",
    "\n",
    "logger = logging.getLogger()\n",
    "logger.setLevel(logging.ERROR)\n",
    "os.environ['SGR_RTU_PORT'] = '/dev/tty.usbmodem56D11292701'\n",
    "device = SGrDevice()\n",
    "device \\\n",
    "    .update_xml_spec('./lehman.xml') \\\n",
    "    .update_config('./config_CLEMAPEnMon_ressource_default.ini') \\\n",
    "    .build()\n",
    "\n",
    "\n",
    "\n",
    "await device.connect()\n",
    "device.describe()\n",
    "# await device.connect()\n",
    "await device.read_data()\n",
    "\n",
    "#find me here /dev/tty.usbmodem56D11292701 E 19200\n"
   ],
   "metadata": {
    "collapsed": false,
    "ExecuteTime": {
     "end_time": "2024-06-14T04:46:35.063256Z",
     "start_time": "2024-06-14T04:46:32.833760Z"
    }
   },
   "id": "6b8baa4d5ef597fd",
   "outputs": [
    {
     "data": {
      "text/plain": [
       "{('ActivePowerAC', 'ActivePowerACtot'): -84.171,\n",
       " ('ActivePowerAC', 'ActivePowerACL1'): -26.727,\n",
       " ('ActivePowerAC', 'ActivePowerACL2'): -57.444,\n",
       " ('ActivePowerAC', 'ActivePowerACL3'): 0,\n",
       " ('ReactivePowerAC', 'ReactivePowerACtot'): -91.09900000000002,\n",
       " ('ReactivePowerAC', 'ReactivePowerACL1'): 51.403,\n",
       " ('ReactivePowerAC', 'ReactivePowerACL2'): -142.502,\n",
       " ('ReactivePowerAC', 'ReactivePowerACL3'): 0,\n",
       " ('ActiveEnergyAC', 'ActiveEnergyACTOT'): -1.408,\n",
       " ('ActiveEnergyAC', 'ActiveEnergyACL1'): -0.45,\n",
       " ('ActiveEnergyAC', 'ActiveEnergyACL2'): -0.958,\n",
       " ('ActiveEnergyAC', 'ActiveEnergyACL3'): 0,\n",
       " ('VoltageAC', 'VoltageTOT'): 464.421,\n",
       " ('VoltageAC', 'VoltageL1'): 232.221,\n",
       " ('VoltageAC', 'VoltageL2'): 232.2,\n",
       " ('VoltageAC', 'VoltageL3'): 0,\n",
       " ('CurrentAC', 'CurrentTOT'): 0.998,\n",
       " ('CurrentAC', 'CurrentL1'): 0.308,\n",
       " ('CurrentAC', 'CurrentL2'): 0.69,\n",
       " ('CurrentAC', 'CurrentL3'): 0,\n",
       " ('ApparentPowerAC', 'ApparentPowerTOT'): 231.899,\n",
       " ('ApparentPowerAC', 'ApparentPowerL1'): 71.591,\n",
       " ('ApparentPowerAC', 'ApparentPowerL2'): 160.308,\n",
       " ('ApparentPowerAC', 'ApparentPowerL3'): 0,\n",
       " ('PowerFactor', 'PowerFactorTOT'): 64.262,\n",
       " ('PowerFactor', 'PowerFactorL1'): 31.621,\n",
       " ('PowerFactor', 'PowerFactorL2'): 31.641,\n",
       " ('PowerFactor', 'PowerFactorL3'): 1}"
      ]
     },
     "execution_count": 1,
     "metadata": {},
     "output_type": "execute_result"
    }
   ],
   "execution_count": 1
  },
  {
   "cell_type": "code",
   "source": "await device.get_function_profile(\"ActivePowerAC\").get_data_point(\"ActivePowerACtot\").read()",
   "metadata": {
    "collapsed": false,
    "ExecuteTime": {
     "end_time": "2024-06-14T04:47:30.107977Z",
     "start_time": "2024-06-14T04:47:29.997148Z"
    }
   },
   "id": "b8ba0b7a98f60e9e",
   "outputs": [
    {
     "data": {
      "text/plain": [
       "-84.276"
      ]
     },
     "execution_count": 6,
     "metadata": {},
     "output_type": "execute_result"
    }
   ],
   "execution_count": 6
  },
  {
   "cell_type": "code",
   "source": [
    "device.configuration_parameter()[0].description"
   ],
   "metadata": {
    "collapsed": false,
    "ExecuteTime": {
     "end_time": "2024-06-14T04:47:25.110572Z",
     "start_time": "2024-06-14T04:47:25.107810Z"
    }
   },
   "id": "5bfc20380900c16c",
   "outputs": [
    {
     "data": {
      "text/plain": [
       "'Identification of the sensor.'"
      ]
     },
     "execution_count": 5,
     "metadata": {},
     "output_type": "execute_result"
    }
   ],
   "execution_count": 5
  },
  {
   "cell_type": "code",
   "source": [
    "clemap = SGrDevice()\n",
    "clemap \\\n",
    "    .update_xml_spec('./SGr_04_mmmm_dddd_CLEMAPEnergyMonitorEIV0.2.1.xml') \\\n",
    "    .update_config('./config_CLEMAPEnMon_ressource_default.ini') \\\n",
    "    .build()"
   ],
   "metadata": {
    "collapsed": false
   },
   "id": "4dc6314dfe7d19ee",
   "outputs": [],
   "execution_count": null
  },
  {
   "cell_type": "code",
   "source": [
    "await clemap.connect()\n"
   ],
   "metadata": {
    "collapsed": false
   },
   "id": "3a815a2b1a66448b",
   "outputs": [],
   "execution_count": null
  },
  {
   "cell_type": "code",
   "source": [
    "await clemap.read_data()"
   ],
   "metadata": {
    "collapsed": false
   },
   "id": "db98822a1ba8b865",
   "outputs": [],
   "execution_count": null
  },
  {
   "cell_type": "code",
   "source": [
    "clemap.describe()\n",
    "clemap.read_data()\n",
    "clemap.configuration_parameter()"
   ],
   "metadata": {
    "collapsed": false
   },
   "id": "d2af8223cc55c8e5",
   "outputs": [],
   "execution_count": null
  },
  {
   "cell_type": "code",
   "source": [],
   "metadata": {
    "collapsed": false
   },
   "id": "18115e9466dd82a5",
   "outputs": [],
   "execution_count": null
  }
 ],
 "metadata": {
  "kernelspec": {
   "display_name": "Python 3",
   "language": "python",
   "name": "python3"
  },
  "language_info": {
   "codemirror_mode": {
    "name": "ipython",
    "version": 2
   },
   "file_extension": ".py",
   "mimetype": "text/x-python",
   "name": "python",
   "nbconvert_exporter": "python",
   "pygments_lexer": "ipython2",
   "version": "2.7.6"
  }
 },
 "nbformat": 4,
 "nbformat_minor": 5
}
