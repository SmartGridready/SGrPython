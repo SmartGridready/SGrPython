{
 "cells": [
  {
   "cell_type": "code",
   "source": [
    "import os\n",
    "import logging\n",
    "\n",
    "logger = logging.getLogger()\n",
    "logger.setLevel(logging.ERROR)\n",
    "os.environ['SGR_RTU_PORT'] = '/dev/tty.usbmodem56D11292701'\n",
    "\n",
    "from sgr_library.device_builder import DeviceBuilder\n",
    "\n",
    "builder = DeviceBuilder()\n",
    "interface_file = './SGr_04_mmmm_dddd_CLEMAPEnergyMonitorEIV0.2.1.xml'\n",
    "config_file = './config_CLEMAPEnMon_ressource_default.ini'\n",
    "device = (\n",
    "    builder.eid_path(interface_file).properties_path(config_file).build()\n",
    ")\n",
    "await device.connect_async()\n",
    "#\n",
    "vals = await device.get_value_async()\n",
    "vals\n",
    "\n",
    "# device = SGrDevice()\n",
    "# device \\\n",
    "#     .update_xml_spec('./lehman.xml') \\\n",
    "#     .update_config('./config_CLEMAPEnMon_ressource_default.ini') \\\n",
    "#     .build()\n",
    "#\n",
    "#\n",
    "#\n",
    "# await device.connect()\n",
    "# device.describe()\n",
    "# # await device.connect()\n",
    "# await device.read_data()\n",
    "\n",
    "#find me here /dev/tty.usbmodem56D11292701 E 19200\n"
   ],
   "metadata": {
    "collapsed": false
   },
   "id": "6b8baa4d5ef597fd",
   "outputs": [],
   "execution_count": null
  },
  {
   "cell_type": "code",
   "source": "# await device.get_function_profile(\"ActivePowerAC\").get_data_point(\"ActivePowerACtot\").read()",
   "metadata": {
    "collapsed": false
   },
   "id": "b8ba0b7a98f60e9e",
   "outputs": [],
   "execution_count": null
  },
  {
   "cell_type": "code",
   "source": "await device.get_function_profile(\"ActivePowerAC\").get_value_async() #.get_data_point(\"ActivePowerACtot\").read()",
   "metadata": {
    "collapsed": false,
    "ExecuteTime": {
     "end_time": "2024-09-05T20:07:11.593611Z",
     "start_time": "2024-09-05T20:07:11.501433Z"
    }
   },
   "id": "5bfc20380900c16c",
   "outputs": [
    {
     "data": {
      "text/plain": [
       "{'ActivePowerACtot': -92.071,\n",
       " 'ActivePowerACL1': -92.071,\n",
       " 'ActivePowerACL2': -92.071,\n",
       " 'ActivePowerACL3': -92.071}"
      ]
     },
     "execution_count": 3,
     "metadata": {},
     "output_type": "execute_result"
    }
   ],
   "execution_count": 3
  },
  {
   "metadata": {},
   "cell_type": "code",
   "outputs": [],
   "execution_count": null,
   "source": "",
   "id": "cfe224be1bd49698"
  },
  {
   "metadata": {},
   "cell_type": "code",
   "outputs": [],
   "execution_count": null,
   "source": "",
   "id": "c2ac672e4706438f"
  },
  {
   "cell_type": "code",
   "source": "await device.get_function_profile(\"ActivePowerAC\").get_data_point(\"ActivePowerACtot\").get_value_async()\n",
   "metadata": {
    "collapsed": false,
    "ExecuteTime": {
     "end_time": "2024-09-05T20:07:46.023458Z",
     "start_time": "2024-09-05T20:07:45.929623Z"
    }
   },
   "id": "4dc6314dfe7d19ee",
   "outputs": [
    {
     "data": {
      "text/plain": [
       "-92.194"
      ]
     },
     "execution_count": 4,
     "metadata": {},
     "output_type": "execute_result"
    }
   ],
   "execution_count": 4
  },
  {
   "cell_type": "code",
   "source": "",
   "metadata": {
    "collapsed": false
   },
   "id": "3a815a2b1a66448b",
   "outputs": [],
   "execution_count": null
  },
  {
   "cell_type": "code",
   "source": "",
   "metadata": {
    "collapsed": false
   },
   "id": "db98822a1ba8b865",
   "outputs": [],
   "execution_count": null
  },
  {
   "cell_type": "code",
   "source": "",
   "metadata": {
    "collapsed": false
   },
   "id": "d2af8223cc55c8e5",
   "outputs": [],
   "execution_count": null
  },
  {
   "cell_type": "code",
   "source": [],
   "metadata": {
    "collapsed": false
   },
   "id": "18115e9466dd82a5",
   "outputs": [],
   "execution_count": null
  }
 ],
 "metadata": {
  "kernelspec": {
   "display_name": "Python 3",
   "language": "python",
   "name": "python3"
  },
  "language_info": {
   "codemirror_mode": {
    "name": "ipython",
    "version": 2
   },
   "file_extension": ".py",
   "mimetype": "text/x-python",
   "name": "python",
   "nbconvert_exporter": "python",
   "pygments_lexer": "ipython2",
   "version": "2.7.6"
  }
 },
 "nbformat": 4,
 "nbformat_minor": 5
}
