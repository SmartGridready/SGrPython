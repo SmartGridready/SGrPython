{
 "cells": [
  {
   "cell_type": "code",
   "source": [
    "import os\n",
    "import logging\n",
    "\n",
    "logger = logging.getLogger()\n",
    "logger.setLevel(logging.ERROR)\n",
    "os.environ['SGR_RTU_PORT'] = '/dev/tty.usbmodem56D11292701'\n",
    "\n",
    "from sgr_library.device_builder import DeviceBuilder\n",
    "\n",
    "builder = DeviceBuilder()\n",
    "interface_file = './SGr_04_mmmm_dddd_CLEMAPEnergyMonitorEIV0.2.1.xml'\n",
    "config_file = './config_CLEMAPEnMon_ressource_default.ini'\n",
    "device = (\n",
    "    builder.eid_path(interface_file).properties_path(config_file).build()\n",
    ")\n",
    "await device.connect_async()\n",
    "#\n",
    "# vals = await device.get_value_async()\n",
    "vals = device.get_value()\n",
    "vals\n",
    "\n",
    "# device = SGrDevice()\n",
    "# device \\\n",
    "#     .update_xml_spec('./lehman.xml') \\\n",
    "#     .update_config('./config_CLEMAPEnMon_ressource_default.ini') \\\n",
    "#     .build()\n",
    "#\n",
    "#\n",
    "#\n",
    "# await device.connect()\n",
    "# device.describe()\n",
    "# # await device.connect()\n",
    "# await device.read_data()\n",
    "\n",
    "#find me here /dev/tty.usbmodem56D11292701 E 19200\n"
   ],
   "metadata": {
    "collapsed": false,
    "ExecuteTime": {
     "end_time": "2024-09-20T16:14:46.855887Z",
     "start_time": "2024-09-20T16:14:44.607098Z"
    }
   },
   "id": "6b8baa4d5ef597fd",
   "outputs": [
    {
     "ename": "RuntimeError",
     "evalue": "asyncio.run() cannot be called from a running event loop",
     "output_type": "error",
     "traceback": [
      "\u001B[0;31m---------------------------------------------------------------------------\u001B[0m",
      "\u001B[0;31mRuntimeError\u001B[0m                              Traceback (most recent call last)",
      "Cell \u001B[0;32mIn[1], line 19\u001B[0m\n\u001B[1;32m     16\u001B[0m \u001B[38;5;28;01mawait\u001B[39;00m device\u001B[38;5;241m.\u001B[39mconnect_async()\n\u001B[1;32m     17\u001B[0m \u001B[38;5;66;03m#\u001B[39;00m\n\u001B[1;32m     18\u001B[0m \u001B[38;5;66;03m# vals = await device.get_value_async()\u001B[39;00m\n\u001B[0;32m---> 19\u001B[0m vals \u001B[38;5;241m=\u001B[39m \u001B[43mdevice\u001B[49m\u001B[38;5;241;43m.\u001B[39;49m\u001B[43mget_value\u001B[49m\u001B[43m(\u001B[49m\u001B[43m)\u001B[49m\n\u001B[1;32m     20\u001B[0m vals\n\u001B[1;32m     22\u001B[0m \u001B[38;5;66;03m# device = SGrDevice()\u001B[39;00m\n\u001B[1;32m     23\u001B[0m \u001B[38;5;66;03m# device \\\u001B[39;00m\n\u001B[1;32m     24\u001B[0m \u001B[38;5;66;03m#     .update_xml_spec('./lehman.xml') \\\u001B[39;00m\n\u001B[0;32m   (...)\u001B[0m\n\u001B[1;32m     34\u001B[0m \n\u001B[1;32m     35\u001B[0m \u001B[38;5;66;03m#find me here /dev/tty.usbmodem56D11292701 E 19200\u001B[39;00m\n",
      "File \u001B[0;32m~/GitRepos/GitHub/SGrPython/sgr_library/api/device_api.py:71\u001B[0m, in \u001B[0;36mBaseSGrInterface.get_value\u001B[0;34m(self)\u001B[0m\n\u001B[1;32m     70\u001B[0m \u001B[38;5;28;01mdef\u001B[39;00m \u001B[38;5;21mget_value\u001B[39m(\u001B[38;5;28mself\u001B[39m) \u001B[38;5;241m-\u001B[39m\u001B[38;5;241m>\u001B[39m \u001B[38;5;28mdict\u001B[39m[\u001B[38;5;28mtuple\u001B[39m[\u001B[38;5;28mstr\u001B[39m, \u001B[38;5;28mstr\u001B[39m], Any]:\n\u001B[0;32m---> 71\u001B[0m     \u001B[38;5;28;01mreturn\u001B[39;00m \u001B[43mrun\u001B[49m\u001B[43m(\u001B[49m\u001B[38;5;28;43mself\u001B[39;49m\u001B[38;5;241;43m.\u001B[39;49m\u001B[43mget_value_async\u001B[49m\u001B[43m(\u001B[49m\u001B[43m)\u001B[49m\u001B[43m)\u001B[49m\n",
      "File \u001B[0;32m/opt/homebrew/Cellar/python@3.12/3.12.4/Frameworks/Python.framework/Versions/3.12/lib/python3.12/asyncio/runners.py:190\u001B[0m, in \u001B[0;36mrun\u001B[0;34m(main, debug, loop_factory)\u001B[0m\n\u001B[1;32m    161\u001B[0m \u001B[38;5;250m\u001B[39m\u001B[38;5;124;03m\"\"\"Execute the coroutine and return the result.\u001B[39;00m\n\u001B[1;32m    162\u001B[0m \n\u001B[1;32m    163\u001B[0m \u001B[38;5;124;03mThis function runs the passed coroutine, taking care of\u001B[39;00m\n\u001B[0;32m   (...)\u001B[0m\n\u001B[1;32m    186\u001B[0m \u001B[38;5;124;03m    asyncio.run(main())\u001B[39;00m\n\u001B[1;32m    187\u001B[0m \u001B[38;5;124;03m\"\"\"\u001B[39;00m\n\u001B[1;32m    188\u001B[0m \u001B[38;5;28;01mif\u001B[39;00m events\u001B[38;5;241m.\u001B[39m_get_running_loop() \u001B[38;5;129;01mis\u001B[39;00m \u001B[38;5;129;01mnot\u001B[39;00m \u001B[38;5;28;01mNone\u001B[39;00m:\n\u001B[1;32m    189\u001B[0m     \u001B[38;5;66;03m# fail fast with short traceback\u001B[39;00m\n\u001B[0;32m--> 190\u001B[0m     \u001B[38;5;28;01mraise\u001B[39;00m \u001B[38;5;167;01mRuntimeError\u001B[39;00m(\n\u001B[1;32m    191\u001B[0m         \u001B[38;5;124m\"\u001B[39m\u001B[38;5;124masyncio.run() cannot be called from a running event loop\u001B[39m\u001B[38;5;124m\"\u001B[39m)\n\u001B[1;32m    193\u001B[0m \u001B[38;5;28;01mwith\u001B[39;00m Runner(debug\u001B[38;5;241m=\u001B[39mdebug, loop_factory\u001B[38;5;241m=\u001B[39mloop_factory) \u001B[38;5;28;01mas\u001B[39;00m runner:\n\u001B[1;32m    194\u001B[0m     \u001B[38;5;28;01mreturn\u001B[39;00m runner\u001B[38;5;241m.\u001B[39mrun(main)\n",
      "\u001B[0;31mRuntimeError\u001B[0m: asyncio.run() cannot be called from a running event loop"
     ]
    }
   ],
   "execution_count": 1
  },
  {
   "cell_type": "code",
   "source": "# await device.get_function_profile(\"ActivePowerAC\").get_data_point(\"ActivePowerACtot\").read()",
   "metadata": {
    "collapsed": false
   },
   "id": "b8ba0b7a98f60e9e",
   "outputs": [],
   "execution_count": null
  },
  {
   "cell_type": "code",
   "source": "await device.get_function_profile(\"ActivePowerAC\").get_value_async()  #.get_data_point(\"ActivePowerACtot\").read()",
   "metadata": {
    "collapsed": false,
    "ExecuteTime": {
     "end_time": "2024-09-05T20:07:11.593611Z",
     "start_time": "2024-09-05T20:07:11.501433Z"
    }
   },
   "id": "5bfc20380900c16c",
   "outputs": [
    {
     "data": {
      "text/plain": [
       "{'ActivePowerACtot': -92.071,\n",
       " 'ActivePowerACL1': -92.071,\n",
       " 'ActivePowerACL2': -92.071,\n",
       " 'ActivePowerACL3': -92.071}"
      ]
     },
     "execution_count": 3,
     "metadata": {},
     "output_type": "execute_result"
    }
   ],
   "execution_count": 3
  },
  {
   "metadata": {},
   "cell_type": "code",
   "outputs": [],
   "execution_count": null,
   "source": "",
   "id": "cfe224be1bd49698"
  },
  {
   "metadata": {},
   "cell_type": "code",
   "outputs": [],
   "execution_count": null,
   "source": "",
   "id": "c2ac672e4706438f"
  },
  {
   "cell_type": "code",
   "source": "await device.get_function_profile(\"ActivePowerAC\").get_data_point(\"ActivePowerACtot\").get_value_async()\n",
   "metadata": {
    "collapsed": false,
    "ExecuteTime": {
     "end_time": "2024-09-05T20:07:46.023458Z",
     "start_time": "2024-09-05T20:07:45.929623Z"
    }
   },
   "id": "4dc6314dfe7d19ee",
   "outputs": [
    {
     "data": {
      "text/plain": [
       "-92.194"
      ]
     },
     "execution_count": 4,
     "metadata": {},
     "output_type": "execute_result"
    }
   ],
   "execution_count": 4
  },
  {
   "cell_type": "code",
   "source": "",
   "metadata": {
    "collapsed": false
   },
   "id": "3a815a2b1a66448b",
   "outputs": [],
   "execution_count": null
  },
  {
   "cell_type": "code",
   "source": "",
   "metadata": {
    "collapsed": false
   },
   "id": "db98822a1ba8b865",
   "outputs": [],
   "execution_count": null
  },
  {
   "cell_type": "code",
   "source": "",
   "metadata": {
    "collapsed": false
   },
   "id": "d2af8223cc55c8e5",
   "outputs": [],
   "execution_count": null
  },
  {
   "cell_type": "code",
   "source": [],
   "metadata": {
    "collapsed": false
   },
   "id": "18115e9466dd82a5",
   "outputs": [],
   "execution_count": null
  }
 ],
 "metadata": {
  "kernelspec": {
   "display_name": "Python 3",
   "language": "python",
   "name": "python3"
  },
  "language_info": {
   "codemirror_mode": {
    "name": "ipython",
    "version": 2
   },
   "file_extension": ".py",
   "mimetype": "text/x-python",
   "name": "python",
   "nbconvert_exporter": "python",
   "pygments_lexer": "ipython2",
   "version": "2.7.6"
  }
 },
 "nbformat": 4,
 "nbformat_minor": 5
}
