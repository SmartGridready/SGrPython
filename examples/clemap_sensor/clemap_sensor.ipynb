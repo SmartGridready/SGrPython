{
 "cells": [
  {
   "cell_type": "code",
   "outputs": [
    {
     "data": {
      "text/plain": "[]"
     },
     "execution_count": 2,
     "metadata": {},
     "output_type": "execute_result"
    }
   ],
   "source": [
    "from sgr_library import SGrDevice\n",
    "\n",
    "device = SGrDevice()\n",
    "device \\\n",
    " .update_xml_spec('./abb_terra_01_with_config.xml') \\\n",
    " .update_config('./config_CLEMAPEnMon_ressource_default.ini') \\\n",
    " .build()\n",
    "\n",
    "\n",
    "device.describe()\n",
    "device.configuration_parameter()\n"
   ],
   "metadata": {
    "collapsed": false,
    "ExecuteTime": {
     "end_time": "2024-03-13T12:42:56.640313Z",
     "start_time": "2024-03-13T12:42:56.628824Z"
    }
   },
   "id": "initial_id",
   "execution_count": 2
  },
  {
   "cell_type": "code",
   "outputs": [],
   "source": [
    "await device.connect()\n",
    "device_data = await device.read_data()\n",
    "print(device_data)\n",
    "\n",
    "fp = device.get_function_profile(\"PowerFactor\")\n",
    "fp_data = await fp.read()\n",
    "print(fp_data)\n",
    "\n",
    "\n",
    "dp = fp.get_data_point(\"PowerFactorL3\")\n",
    "dp_data = await dp.read()\n",
    "print(dp_data)\n",
    "\n",
    "\n"
   ],
   "metadata": {
    "collapsed": false
   },
   "id": "e574c102f8c88c52",
   "execution_count": null
  },
  {
   "cell_type": "code",
   "outputs": [],
   "source": [
    "fp = device.get_function_profile(\"PowerFactor\")\n",
    "await fp.read()"
   ],
   "metadata": {
    "collapsed": false
   },
   "id": "ff1be864ba759067",
   "execution_count": null
  },
  {
   "cell_type": "code",
   "outputs": [],
   "source": [
    "dp = fp.get_data_point(\"PowerFactorTOT\")"
   ],
   "metadata": {
    "collapsed": false
   },
   "id": "74d6a9b0e1deaaf8",
   "execution_count": null
  },
  {
   "cell_type": "code",
   "outputs": [],
   "source": [
    "await device.read_data()"
   ],
   "metadata": {
    "collapsed": false
   },
   "id": "f2b7972e1a54e95c",
   "execution_count": null
  },
  {
   "cell_type": "code",
   "outputs": [],
   "source": [
    "device.configuration_parameter()[0].description"
   ],
   "metadata": {
    "collapsed": false
   },
   "id": "6e23d35c6dc4a852",
   "execution_count": null
  },
  {
   "cell_type": "code",
   "outputs": [],
   "source": [],
   "metadata": {
    "collapsed": false
   },
   "id": "b491e99263055ba",
   "execution_count": null
  }
 ],
 "metadata": {
  "kernelspec": {
   "display_name": "Python 3",
   "language": "python",
   "name": "python3"
  },
  "language_info": {
   "codemirror_mode": {
    "name": "ipython",
    "version": 2
   },
   "file_extension": ".py",
   "mimetype": "text/x-python",
   "name": "python",
   "nbconvert_exporter": "python",
   "pygments_lexer": "ipython2",
   "version": "2.7.6"
  }
 },
 "nbformat": 4,
 "nbformat_minor": 5
}
