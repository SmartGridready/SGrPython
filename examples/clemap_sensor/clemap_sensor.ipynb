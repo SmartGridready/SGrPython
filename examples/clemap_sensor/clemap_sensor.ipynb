{
 "cells": [
  {
   "cell_type": "code",
   "outputs": [
    {
     "name": "stderr",
     "output_type": "stream",
     "text": [
      "ERROR:asyncio:Unclosed client session\n",
      "client_session: <aiohttp.client.ClientSession object at 0x111232b10>\n",
      "ERROR:asyncio:Unclosed client session\n",
      "client_session: <aiohttp.client.ClientSession object at 0x111205dd0>\n",
      "ERROR:asyncio:Unclosed client session\n",
      "client_session: <aiohttp.client.ClientSession object at 0x107b1fb50>\n"
     ]
    },
    {
     "name": "stdout",
     "output_type": "stream",
     "text": [
      "{'strategy': 'local', 'email': 'sgrdemo@clemap.ch', 'password': 'u7L9mmW4rGN639ft'}\n"
     ]
    },
    {
     "data": {
      "text/plain": "('CLEMAP Energy Monitor',\n {'ActivePowerAC': {'ActivePowerACtot': (<DataDirectionProduct.R: 'R'>,\n    <DataTypes.FLOAT: ('FLOAT',)>),\n   'ActivePowerACL1': (<DataDirectionProduct.R: 'R'>,\n    <DataTypes.FLOAT: ('FLOAT',)>),\n   'ActivePowerACL2': (<DataDirectionProduct.R: 'R'>,\n    <DataTypes.FLOAT: ('FLOAT',)>),\n   'ActivePowerACL3': (<DataDirectionProduct.R: 'R'>,\n    <DataTypes.FLOAT: ('FLOAT',)>)},\n  'ReactivePowerAC': {'ReactivePowerACtot': (<DataDirectionProduct.R: 'R'>,\n    <DataTypes.FLOAT: ('FLOAT',)>),\n   'ReactivePowerACL1': (<DataDirectionProduct.R: 'R'>,\n    <DataTypes.FLOAT: ('FLOAT',)>),\n   'ReactivePowerACL2': (<DataDirectionProduct.R: 'R'>,\n    <DataTypes.FLOAT: ('FLOAT',)>),\n   'ReactivePowerACL3': (<DataDirectionProduct.R: 'R'>,\n    <DataTypes.FLOAT: ('FLOAT',)>)},\n  'ActiveEnergyAC': {'ActiveEnergyACTOT': (<DataDirectionProduct.R: 'R'>,\n    <DataTypes.FLOAT: ('FLOAT',)>),\n   'ActiveEnergyACL1': (<DataDirectionProduct.R: 'R'>,\n    <DataTypes.FLOAT: ('FLOAT',)>),\n   'ActiveEnergyACL2': (<DataDirectionProduct.R: 'R'>,\n    <DataTypes.FLOAT: ('FLOAT',)>),\n   'ActiveEnergyACL3': (<DataDirectionProduct.R: 'R'>,\n    <DataTypes.FLOAT: ('FLOAT',)>)},\n  'VoltageAC': {'VoltageTOT': (<DataDirectionProduct.R: 'R'>,\n    <DataTypes.FLOAT: ('FLOAT',)>),\n   'VoltageL1': (<DataDirectionProduct.R: 'R'>, <DataTypes.FLOAT: ('FLOAT',)>),\n   'VoltageL2': (<DataDirectionProduct.R: 'R'>, <DataTypes.FLOAT: ('FLOAT',)>),\n   'VoltageL3': (<DataDirectionProduct.R: 'R'>,\n    <DataTypes.FLOAT: ('FLOAT',)>)},\n  'CurrentAC': {'CurrentTOT': (<DataDirectionProduct.R: 'R'>,\n    <DataTypes.FLOAT: ('FLOAT',)>),\n   'CurrentL1': (<DataDirectionProduct.R: 'R'>, <DataTypes.FLOAT: ('FLOAT',)>),\n   'CurrentL2': (<DataDirectionProduct.R: 'R'>, <DataTypes.FLOAT: ('FLOAT',)>),\n   'CurrentL3': (<DataDirectionProduct.R: 'R'>,\n    <DataTypes.FLOAT: ('FLOAT',)>)},\n  'ApparentPowerAC': {'ApparentPowerTOT': (<DataDirectionProduct.R: 'R'>,\n    <DataTypes.FLOAT: ('FLOAT',)>),\n   'ApparentPowerL1': (<DataDirectionProduct.R: 'R'>,\n    <DataTypes.FLOAT: ('FLOAT',)>),\n   'ApparentPowerL2': (<DataDirectionProduct.R: 'R'>,\n    <DataTypes.FLOAT: ('FLOAT',)>),\n   'ApparentPowerL3': (<DataDirectionProduct.R: 'R'>,\n    <DataTypes.FLOAT: ('FLOAT',)>)},\n  'PowerFactor': {'PowerFactorTOT': (<DataDirectionProduct.R: 'R'>,\n    <DataTypes.FLOAT: ('FLOAT',)>),\n   'PowerFactorL1': (<DataDirectionProduct.R: 'R'>,\n    <DataTypes.FLOAT: ('FLOAT',)>),\n   'PowerFactorL2': (<DataDirectionProduct.R: 'R'>,\n    <DataTypes.FLOAT: ('FLOAT',)>),\n   'PowerFactorL3': (<DataDirectionProduct.R: 'R'>,\n    <DataTypes.FLOAT: ('FLOAT',)>)}})"
     },
     "execution_count": 5,
     "metadata": {},
     "output_type": "execute_result"
    }
   ],
   "source": [
    "from sgr_library import SGrDevice\n",
    "import os\n",
    "import logging\n",
    "\n",
    "logger = logging.getLogger()\n",
    "logger.setLevel(logging.ERROR)\n",
    "os.environ['SGR_RTU_PORT'] = '/dev/tty.usbmodem56D11292701'\n",
    "device = SGrDevice()\n",
    "device \\\n",
    "    .update_xml_spec('./lehman.xml') \\\n",
    "    .update_config('./config_CLEMAPEnMon_ressource_default.ini') \\\n",
    "    .build()\n",
    "\n",
    "await device.connect()\n",
    "device.describe()\n",
    "# await device.connect()\n",
    "# await device.read_data()\n",
    "#find me here /dev/tty.usbmodem56D11292701 E 19200\n"
   ],
   "metadata": {
    "collapsed": false,
    "ExecuteTime": {
     "end_time": "2024-04-21T11:20:18.445752Z",
     "start_time": "2024-04-21T11:20:16.702427Z"
    }
   },
   "id": "6b8baa4d5ef597fd",
   "execution_count": 5
  },
  {
   "cell_type": "code",
   "outputs": [
    {
     "data": {
      "text/plain": "{('ActivePowerAC', 'ActivePowerACtot'): -35.095,\n ('ActivePowerAC', 'ActivePowerACL1'): -36.512,\n ('ActivePowerAC', 'ActivePowerACL2'): 1.417,\n ('ActivePowerAC', 'ActivePowerACL3'): 0,\n ('ReactivePowerAC', 'ReactivePowerACtot'): 63.487,\n ('ReactivePowerAC', 'ReactivePowerACL1'): 56.523,\n ('ReactivePowerAC', 'ReactivePowerACL2'): 6.964,\n ('ReactivePowerAC', 'ReactivePowerACL3'): 0,\n ('ActiveEnergyAC', 'ActiveEnergyACTOT'): -0.592,\n ('ActiveEnergyAC', 'ActiveEnergyACL1'): -0.615,\n ('ActiveEnergyAC', 'ActiveEnergyACL2'): 0.023,\n ('ActiveEnergyAC', 'ActiveEnergyACL3'): 0,\n ('VoltageAC', 'VoltageTOT'): 464.002,\n ('VoltageAC', 'VoltageL1'): 231.668,\n ('VoltageAC', 'VoltageL2'): 232.334,\n ('VoltageAC', 'VoltageL3'): 0,\n ('CurrentAC', 'CurrentTOT'): 0.35900000000000004,\n ('CurrentAC', 'CurrentL1'): 0.342,\n ('CurrentAC', 'CurrentL2'): 0.017,\n ('CurrentAC', 'CurrentL3'): 0,\n ('ApparentPowerAC', 'ApparentPowerTOT'): 83.575,\n ('ApparentPowerAC', 'ApparentPowerL1'): 79.437,\n ('ApparentPowerAC', 'ApparentPowerL2'): 4.138,\n ('ApparentPowerAC', 'ApparentPowerL3'): 0,\n ('PowerFactor', 'PowerFactorTOT'): 32.876,\n ('PowerFactor', 'PowerFactorL1'): 31.534,\n ('PowerFactor', 'PowerFactorL2'): 0.342,\n ('PowerFactor', 'PowerFactorL3'): 1}"
     },
     "execution_count": 4,
     "metadata": {},
     "output_type": "execute_result"
    }
   ],
   "source": [
    "device.describe()\n",
    "await device.read_data()"
   ],
   "metadata": {
    "collapsed": false,
    "ExecuteTime": {
     "end_time": "2024-04-21T11:19:45.402743Z",
     "start_time": "2024-04-21T11:19:45.373320Z"
    }
   },
   "id": "b8ba0b7a98f60e9e",
   "execution_count": 4
  },
  {
   "cell_type": "code",
   "outputs": [],
   "source": [
    "device.configuration_parameter()[0].description"
   ],
   "metadata": {
    "collapsed": false
   },
   "id": "5bfc20380900c16c",
   "execution_count": null
  },
  {
   "cell_type": "code",
   "outputs": [],
   "source": [
    "clemap = SGrDevice()\n",
    "clemap \\\n",
    "    .update_xml_spec('./SGr_04_mmmm_dddd_CLEMAPEnergyMonitorEIV0.2.1.xml') \\\n",
    "    .update_config('./config_CLEMAPEnMon_ressource_default.ini') \\\n",
    "    .build()"
   ],
   "metadata": {
    "collapsed": false
   },
   "id": "4dc6314dfe7d19ee",
   "execution_count": null
  },
  {
   "cell_type": "code",
   "outputs": [],
   "source": [
    "await clemap.connect()\n"
   ],
   "metadata": {
    "collapsed": false
   },
   "id": "3a815a2b1a66448b",
   "execution_count": null
  },
  {
   "cell_type": "code",
   "outputs": [],
   "source": [
    "await clemap.read_data()"
   ],
   "metadata": {
    "collapsed": false
   },
   "id": "db98822a1ba8b865",
   "execution_count": null
  },
  {
   "cell_type": "code",
   "outputs": [],
   "source": [
    "clemap.describe()\n",
    "clemap.read_data()\n",
    "clemap.configuration_parameter()"
   ],
   "metadata": {
    "collapsed": false
   },
   "id": "d2af8223cc55c8e5",
   "execution_count": null
  },
  {
   "cell_type": "code",
   "outputs": [],
   "source": [],
   "metadata": {
    "collapsed": false
   },
   "id": "18115e9466dd82a5"
  }
 ],
 "metadata": {
  "kernelspec": {
   "display_name": "Python 3",
   "language": "python",
   "name": "python3"
  },
  "language_info": {
   "codemirror_mode": {
    "name": "ipython",
    "version": 2
   },
   "file_extension": ".py",
   "mimetype": "text/x-python",
   "name": "python",
   "nbconvert_exporter": "python",
   "pygments_lexer": "ipython2",
   "version": "2.7.6"
  }
 },
 "nbformat": 4,
 "nbformat_minor": 5
}
