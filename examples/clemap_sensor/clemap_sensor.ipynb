{
 "cells": [
  {
   "cell_type": "code",
   "execution_count": 2,
   "id": "initial_id",
   "metadata": {
    "collapsed": true,
    "ExecuteTime": {
     "end_time": "2024-02-13T19:13:30.611997Z",
     "start_time": "2024-02-13T19:13:28.546761Z"
    }
   },
   "outputs": [
    {
     "data": {
      "text/plain": "('CLEMAP Energy Monitor',\n {'ActivePowerAC': {'ActivePowerACtot': (<DataDirection.R: 'R'>,\n    <DataTypes.FLOAT: ('FLOAT',)>),\n   'ActivePowerACL1': (<DataDirection.R: 'R'>, <DataTypes.FLOAT: ('FLOAT',)>),\n   'ActivePowerACL2': (<DataDirection.R: 'R'>, <DataTypes.FLOAT: ('FLOAT',)>),\n   'ActivePowerACL3': (<DataDirection.R: 'R'>, <DataTypes.FLOAT: ('FLOAT',)>)},\n  'ReactivePowerAC': {'ReactivePowerACtot': (<DataDirection.R: 'R'>,\n    <DataTypes.FLOAT: ('FLOAT',)>),\n   'ReactivePowerACL1': (<DataDirection.R: 'R'>,\n    <DataTypes.FLOAT: ('FLOAT',)>),\n   'ReactivePowerACL2': (<DataDirection.R: 'R'>,\n    <DataTypes.FLOAT: ('FLOAT',)>),\n   'ReactivePowerACL3': (<DataDirection.R: 'R'>,\n    <DataTypes.FLOAT: ('FLOAT',)>)},\n  'ActiveEnergyAC': {'ActiveEnergyACTOT': (<DataDirection.R: 'R'>,\n    <DataTypes.FLOAT: ('FLOAT',)>),\n   'ActiveEnergyACL1': (<DataDirection.R: 'R'>, <DataTypes.FLOAT: ('FLOAT',)>),\n   'ActiveEnergyACL2': (<DataDirection.R: 'R'>, <DataTypes.FLOAT: ('FLOAT',)>),\n   'ActiveEnergyACL3': (<DataDirection.R: 'R'>,\n    <DataTypes.FLOAT: ('FLOAT',)>)},\n  'VoltageAC': {'VoltageTOT': (<DataDirection.R: 'R'>,\n    <DataTypes.FLOAT: ('FLOAT',)>),\n   'VoltageL1': (<DataDirection.R: 'R'>, <DataTypes.FLOAT: ('FLOAT',)>),\n   'VoltageL2': (<DataDirection.R: 'R'>, <DataTypes.FLOAT: ('FLOAT',)>),\n   'VoltageL3': (<DataDirection.R: 'R'>, <DataTypes.FLOAT: ('FLOAT',)>)},\n  'CurrentAC': {'CurrentTOT': (<DataDirection.R: 'R'>,\n    <DataTypes.FLOAT: ('FLOAT',)>),\n   'CurrentL1': (<DataDirection.R: 'R'>, <DataTypes.FLOAT: ('FLOAT',)>),\n   'CurrentL2': (<DataDirection.R: 'R'>, <DataTypes.FLOAT: ('FLOAT',)>),\n   'CurrentL3': (<DataDirection.R: 'R'>, <DataTypes.FLOAT: ('FLOAT',)>)},\n  'ApparentPowerAC': {'ApparentPowerTOT': (<DataDirection.R: 'R'>,\n    <DataTypes.FLOAT: ('FLOAT',)>),\n   'ApparentPowerL1': (<DataDirection.R: 'R'>, <DataTypes.FLOAT: ('FLOAT',)>),\n   'ApparentPowerL2': (<DataDirection.R: 'R'>, <DataTypes.FLOAT: ('FLOAT',)>),\n   'ApparentPowerL3': (<DataDirection.R: 'R'>, <DataTypes.FLOAT: ('FLOAT',)>)},\n  'PowerFactor': {'PowerFactorTOT': (<DataDirection.R: 'R'>,\n    <DataTypes.FLOAT: ('FLOAT',)>),\n   'PowerFactorL1': (<DataDirection.R: 'R'>, <DataTypes.FLOAT: ('FLOAT',)>),\n   'PowerFactorL2': (<DataDirection.R: 'R'>, <DataTypes.FLOAT: ('FLOAT',)>),\n   'PowerFactorL3': (<DataDirection.R: 'R'>, <DataTypes.FLOAT: ('FLOAT',)>)}})"
     },
     "execution_count": 2,
     "metadata": {},
     "output_type": "execute_result"
    }
   ],
   "source": [
    "from sgr_library import SGrDevice\n",
    "\n",
    "device = SGrDevice()\n",
    "device \\\n",
    " .update_xml_spec('./SGr_04_mmmm_dddd_CLEMAPEnergyMonitorEIV0.2.1.xml') \\\n",
    " .update_config('./config_CLEMAPEnMon_ressource_default.ini') \\\n",
    " .build()\n",
    "\n",
    "await device.connect()\n",
    "\n",
    "device.describe()\n"
   ]
  },
  {
   "cell_type": "code",
   "outputs": [
    {
     "name": "stdout",
     "output_type": "stream",
     "text": [
      "{('ActivePowerAC', 'ActivePowerACtot'): -28.742, ('ActivePowerAC', 'ActivePowerACL1'): -30.088, ('ActivePowerAC', 'ActivePowerACL2'): 1.346, ('ActivePowerAC', 'ActivePowerACL3'): 0, ('ReactivePowerAC', 'ReactivePowerACtot'): 60.052, ('ReactivePowerAC', 'ReactivePowerACL1'): 53.098, ('ReactivePowerAC', 'ReactivePowerACL2'): 6.954, ('ReactivePowerAC', 'ReactivePowerACL3'): 0, ('ActiveEnergyAC', 'ActiveEnergyACTOT'): -0.48, ('ActiveEnergyAC', 'ActiveEnergyACL1'): -0.502, ('ActiveEnergyAC', 'ActiveEnergyACL2'): 0.022, ('ActiveEnergyAC', 'ActiveEnergyACL3'): 0, ('VoltageAC', 'VoltageTOT'): 464.669, ('VoltageAC', 'VoltageL1'): 231.69, ('VoltageAC', 'VoltageL2'): 232.979, ('VoltageAC', 'VoltageL3'): 0, ('CurrentAC', 'CurrentTOT'): 0.333, ('CurrentAC', 'CurrentL1'): 0.315, ('CurrentAC', 'CurrentL2'): 0.018, ('CurrentAC', 'CurrentL3'): 0, ('ApparentPowerAC', 'ApparentPowerTOT'): 77.322, ('ApparentPowerAC', 'ApparentPowerL1'): 73.108, ('ApparentPowerAC', 'ApparentPowerL2'): 4.214, ('ApparentPowerAC', 'ApparentPowerL3'): 0, ('PowerFactor', 'PowerFactorTOT'): 32.903999999999996, ('PowerFactor', 'PowerFactorL1'): 31.587, ('PowerFactor', 'PowerFactorL2'): 0.317, ('PowerFactor', 'PowerFactorL3'): 1}\n",
      "{'PowerFactorTOT': 32.903999999999996, 'PowerFactorL1': 31.587, 'PowerFactorL2': 0.317, 'PowerFactorL3': 1}\n",
      "1\n"
     ]
    }
   ],
   "source": [
    "device_data = await device.read_data()\n",
    "print(device_data)\n",
    "\n",
    "fp = device.get_function_profile(\"PowerFactor\")\n",
    "fp_data = await fp.read()\n",
    "print(fp_data)\n",
    "\n",
    "\n",
    "dp = fp.get_data_point(\"PowerFactorL3\")\n",
    "dp_data = await dp.read()\n",
    "print(dp_data)\n",
    "\n",
    "\n"
   ],
   "metadata": {
    "collapsed": false,
    "ExecuteTime": {
     "end_time": "2024-02-13T19:13:31.479660Z",
     "start_time": "2024-02-13T19:13:30.613035Z"
    }
   },
   "id": "e574c102f8c88c52",
   "execution_count": 3
  },
  {
   "cell_type": "code",
   "outputs": [
    {
     "data": {
      "text/plain": "{'PowerFactorTOT': 32.903999999999996,\n 'PowerFactorL1': 31.587,\n 'PowerFactorL2': 0.317,\n 'PowerFactorL3': 1}"
     },
     "execution_count": 4,
     "metadata": {},
     "output_type": "execute_result"
    }
   ],
   "source": [
    "fp = device.get_function_profile(\"PowerFactor\")\n",
    "await fp.read()"
   ],
   "metadata": {
    "collapsed": false,
    "ExecuteTime": {
     "end_time": "2024-02-13T19:13:31.650652Z",
     "start_time": "2024-02-13T19:13:31.481702Z"
    }
   },
   "id": "ff1be864ba759067",
   "execution_count": 4
  },
  {
   "cell_type": "code",
   "outputs": [
    {
     "data": {
      "text/plain": "32.903999999999996"
     },
     "execution_count": 5,
     "metadata": {},
     "output_type": "execute_result"
    }
   ],
   "source": [
    "dp = fp.get_data_point(\"PowerFactorTOT\")\n",
    "await dp.read()"
   ],
   "metadata": {
    "collapsed": false,
    "ExecuteTime": {
     "end_time": "2024-02-13T19:13:31.770222Z",
     "start_time": "2024-02-13T19:13:31.597170Z"
    }
   },
   "id": "74d6a9b0e1deaaf8",
   "execution_count": 5
  },
  {
   "cell_type": "code",
   "outputs": [
    {
     "data": {
      "text/plain": "('PowerFactor',\n {'PowerFactorTOT': (<DataDirection.R: 'R'>, <DataTypes.FLOAT: ('FLOAT',)>),\n  'PowerFactorL1': (<DataDirection.R: 'R'>, <DataTypes.FLOAT: ('FLOAT',)>),\n  'PowerFactorL2': (<DataDirection.R: 'R'>, <DataTypes.FLOAT: ('FLOAT',)>),\n  'PowerFactorL3': (<DataDirection.R: 'R'>, <DataTypes.FLOAT: ('FLOAT',)>)})"
     },
     "execution_count": 7,
     "metadata": {},
     "output_type": "execute_result"
    }
   ],
   "source": [
    "fp.describe()"
   ],
   "metadata": {
    "collapsed": false,
    "ExecuteTime": {
     "end_time": "2024-02-13T19:13:40.562597Z",
     "start_time": "2024-02-13T19:13:40.557313Z"
    }
   },
   "id": "f2b7972e1a54e95c",
   "execution_count": 7
  },
  {
   "cell_type": "code",
   "outputs": [],
   "source": [],
   "metadata": {
    "collapsed": false,
    "ExecuteTime": {
     "start_time": "2024-02-13T19:13:31.646516Z"
    }
   },
   "id": "6e23d35c6dc4a852",
   "execution_count": null
  },
  {
   "cell_type": "code",
   "outputs": [],
   "source": [],
   "metadata": {
    "collapsed": false,
    "ExecuteTime": {
     "start_time": "2024-02-13T19:13:31.648003Z"
    }
   },
   "id": "b491e99263055ba",
   "execution_count": null
  }
 ],
 "metadata": {
  "kernelspec": {
   "display_name": "Python 3",
   "language": "python",
   "name": "python3"
  },
  "language_info": {
   "codemirror_mode": {
    "name": "ipython",
    "version": 2
   },
   "file_extension": ".py",
   "mimetype": "text/x-python",
   "name": "python",
   "nbconvert_exporter": "python",
   "pygments_lexer": "ipython2",
   "version": "2.7.6"
  }
 },
 "nbformat": 4,
 "nbformat_minor": 5
}
