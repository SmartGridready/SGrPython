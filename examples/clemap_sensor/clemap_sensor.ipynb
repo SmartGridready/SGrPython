{
 "cells": [
  {
   "cell_type": "code",
   "outputs": [
    {
     "name": "stdout",
     "output_type": "stream",
     "text": [
      "Connected to ModbusRTU ond Port: /dev/tty.usbmodem56D11292701\n"
     ]
    },
    {
     "data": {
      "text/plain": "{('VoltageAC', 'VoltageL1'): 2353,\n ('VoltageAC', 'VoltageL2'): 2353,\n ('VoltageAC', 'VoltageL3'): 2353,\n ('VoltageAC', 'VoltageACL1-L2'): 2353,\n ('VoltageAC', 'VoltageACL1-L3'): 2353,\n ('VoltageAC', 'VoltageACL2-L3'): 2353,\n ('Frequency', 'Frequency'): 5006,\n ('CurrentAC', 'CurrentACL1'): 0,\n ('CurrentAC', 'CurrentACL2'): 0,\n ('CurrentAC', 'CurrentACL3'): 0,\n ('CurrentAC', 'CurrentACN'): 0,\n ('ActivePowerAC', 'ActivePowerACtot'): 0,\n ('ActivePowerAC', 'ActivePowerACL1'): 0,\n ('ActivePowerAC', 'ActivePowerACL2'): 0,\n ('ActivePowerAC', 'ActivePowerACL3'): 0,\n ('ReactivePowerAC', 'ReactivePowerACtot'): 2147483647,\n ('ReactivePowerAC', 'ReactivePowerACL1'): 2147483647,\n ('ReactivePowerAC', 'ReactivePowerACL2'): 2147483647,\n ('ReactivePowerAC', 'ReactivePowerACL3'): 2147483647,\n ('ApparentPowerAC', 'ApparentPowerACtot'): 2147483647,\n ('ApparentPowerAC', 'ApparentPowerACL1'): 2147483647,\n ('ApparentPowerAC', 'ApparentPowerACL2'): 2147483647,\n ('ApparentPowerAC', 'ApparentPowerACL3'): 2147483647,\n ('ActiveEnergyAC', 'ActiveEnergyACtot'): 1898,\n ('ActiveEnergyAC', 'ActiveEnergyACL1'): 1898,\n ('ActiveEnergyAC', 'ActiveEnergyACL2'): 1898,\n ('ActiveEnergyAC', 'ActiveEnergyACL3'): 1898,\n ('ReactiveEnergyAC', 'ReactiveEnergyACtot'): 8156142895103,\n ('ReactiveEnergyAC', 'ReactiveEnergyACL1'): 8156142895103,\n ('ReactiveEnergyAC', 'ReactiveEnergyACL2'): 8156142895103,\n ('ReactiveEnergyAC', 'ReactiveEnergyACL3'): 8156142895103,\n ('ActiveEnerBalanceAC', 'ActiveImportAC'): 1898,\n ('ActiveEnerBalanceAC', 'ActiveExportAC'): 1898,\n ('ActiveEnerBalanceAC', 'ActiveNetAC'): 1898,\n ('ReactiveEnerBalanceAC', 'ReactiveImportAC'): -1,\n ('ReactiveEnerBalanceAC', 'ReactiveExportAC'): -1,\n ('ReactiveEnerBalanceAC', 'ReactiveNetAC'): -1,\n ('PowerQuadrant', 'PwrQuadACtot'): None,\n ('PowerQuadrant', 'PwrQuadACL1'): None,\n ('PowerQuadrant', 'PwrQuadACL2'): None,\n ('PowerQuadrant', 'PwrQuadACL3'): None}"
     },
     "execution_count": 2,
     "metadata": {},
     "output_type": "execute_result"
    }
   ],
   "source": [
    "from sgr_library import SGrDevice\n",
    "import os\n",
    "\n",
    "os.environ['SGR_RTU_PORT'] = '/dev/tty.usbmodem56D11292701'\n",
    "device = SGrDevice()\n",
    "device \\\n",
    "    .update_xml_spec('./abb_terra_01_with_config.xml') \\\n",
    "    .update_config('./config_CLEMAPEnMon_ressource_default.ini') \\\n",
    "    .build()\n",
    "\n",
    "device.describe()\n",
    "await device.connect()\n",
    "await device.read_data()\n",
    "#find me here /dev/tty.usbmodem56D11292701 E 19200\n"
   ],
   "metadata": {
    "collapsed": false,
    "ExecuteTime": {
     "end_time": "2024-03-24T14:39:16.491115Z",
     "start_time": "2024-03-24T14:39:14.788583Z"
    }
   },
   "id": "6b8baa4d5ef597fd",
   "execution_count": 2
  },
  {
   "cell_type": "code",
   "outputs": [],
   "source": [
    "device.describe()\n",
    "dp = device.get_data_point(('ActiveEnerBalanceAC', 'ActiveExportAC'))\n",
    "x = await dp.read()\n",
    "print(x)"
   ],
   "metadata": {
    "collapsed": false
   },
   "id": "b8ba0b7a98f60e9e",
   "execution_count": null
  },
  {
   "cell_type": "code",
   "outputs": [],
   "source": [
    "device.configuration_parameter()[0].description"
   ],
   "metadata": {
    "collapsed": false
   },
   "id": "5bfc20380900c16c",
   "execution_count": null
  },
  {
   "cell_type": "code",
   "outputs": [],
   "source": [
    "clemap = SGrDevice()\n",
    "clemap \\\n",
    "    .update_xml_spec('./SGr_04_mmmm_dddd_CLEMAPEnergyMonitorEIV0.2.1.xml') \\\n",
    "    .update_config('./config_CLEMAPEnMon_ressource_default.ini') \\\n",
    "    .build()"
   ],
   "metadata": {
    "collapsed": false
   },
   "id": "4dc6314dfe7d19ee",
   "execution_count": null
  },
  {
   "cell_type": "code",
   "outputs": [],
   "source": [
    "await clemap.connect()\n"
   ],
   "metadata": {
    "collapsed": false
   },
   "id": "3a815a2b1a66448b",
   "execution_count": null
  },
  {
   "cell_type": "code",
   "outputs": [],
   "source": [
    "await clemap.read_data()"
   ],
   "metadata": {
    "collapsed": false
   },
   "id": "db98822a1ba8b865",
   "execution_count": null
  },
  {
   "cell_type": "code",
   "outputs": [],
   "source": [
    "clemap.describe()\n",
    "clemap.configuration_parameter()"
   ],
   "metadata": {
    "collapsed": false
   },
   "id": "d2af8223cc55c8e5",
   "execution_count": null
  },
  {
   "cell_type": "code",
   "outputs": [],
   "source": [],
   "metadata": {
    "collapsed": false
   },
   "id": "18115e9466dd82a5"
  }
 ],
 "metadata": {
  "kernelspec": {
   "display_name": "Python 3",
   "language": "python",
   "name": "python3"
  },
  "language_info": {
   "codemirror_mode": {
    "name": "ipython",
    "version": 2
   },
   "file_extension": ".py",
   "mimetype": "text/x-python",
   "name": "python",
   "nbconvert_exporter": "python",
   "pygments_lexer": "ipython2",
   "version": "2.7.6"
  }
 },
 "nbformat": 4,
 "nbformat_minor": 5
}
